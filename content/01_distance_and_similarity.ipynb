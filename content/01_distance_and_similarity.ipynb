{
 "cells": [
  {
   "cell_type": "markdown",
   "metadata": {},
   "source": [
    "# Data Formats"
   ]
  },
  {
   "cell_type": "markdown",
   "metadata": {},
   "source": [
    "To maximize our use of data, especially large, complex data sets, we will need to understand the varied common types of _data formats_ available today. We will frame our discussion of data formats separate from that of _data representation_, since the former is often centered around human, technological or machine needs, while the later allows us a more rigorous mathematical abstraction of data independent of technology."
   ]
  },
  {
   "cell_type": "markdown",
   "metadata": {},
   "source": [
    "## Text-based data formats\n",
    "\n",
    "Though the international community has developed standards to address the variety of written, spoken and performed (in the case of sign language) human languages across our planet, modern  computers most often standardize on one of the older and widely accepted text-based formats, [ASCII](https://en.wikipedia.org/wiki/ASCII) (American Standard Code for Information Interchange) text.  If you are reading this document right now on a screen, it is likely that some version of the document upon which this is based, is ASCII.\n",
    "\n",
    "You can think of ASCII as one of the simplest, oldest and universally accepted text formats on digital computers from the 20th century and even today. Many files capturing a variety of data can be represented in ASCII, especially if the data are numeric or standard English.  You have likely dealt with an ASCII _data file_ if you have ever opened a CSV file, and while over the past two decades, ASCII has been replaced by more robust text formats like [Unicode](https://www.unicode.org/standard/standard.html) that are capable of broad range of characters from all written human languages and other special characters that can be printed on a computer screen. The core function of Unicode is that it \"provides a unique number for every character, no matter what the platform, no matter what the program, no matter what the language.\"  Unicode, therefore, specifics the characters, and the _implementation_ of that format is independent of its specification.  Thus, you may see formats like UTF-8, UTF-16 and others, which are _implementations_ of Unicode characters in a minimum specified number of bits.  Thus, UTF-8 will provide an encoding of Unicode characters in no fewer than 8 bits (but note, UTF-8 allows for more than 8 bits to encode a character). Likewise, UTF-16 characters occupy no fewer than 16 bits. \n",
    "\n",
    "There are 5 formats we will introduce now, that will appear in some form throughout your data career.\n",
    "\n",
    "### Standard ASCII Text\n",
    "\n",
    "As mentioned before ASCII is the character set that most modern computers standardize on and dates back to the 1960s.  Nearly every computer made today can read and display an ASCII file and its character set neatly fits into a table 128 entries long.  You will find a wide array of current and historical data sets in ASCII, especially those from instruments that automatically produce numeric data.\n",
    "\n",
    "### CSV and TSV\n",
    "\n",
    "CSV (Comma Separated Values) files are one of the most common file formats for ASCII data and have been with computing since the early 1970s.  The format is often well suited for flat tabular data of rows and columns, where each row represents the data for a number of columns or attributes.  CSV files, as the name suggests are delimeted by commas, while data of the close sibling  to CSV, TSV or Tab Separated Values, use the tab or `\\t` character as its separator.  TSV are often more readable than CSV where columnar data are relatively the same in width, though CSV are more flexible when data are text.  Though CSV and TSV formats were introduced decades ago, and are _not_ well suited for hierarchical data, they are still very useful and many never entirely be retired, since useful original datasets can still be found in this durable format.\n",
    "\n",
    "```csv\n",
    "John,Doe,120 jefferson st.,Riverside, NJ, 08075\n",
    "Jack,McGinnis,220 hobo Av.,Phila, PA,09119\n",
    "\"John \"\"Da Man\"\"\",Repici,120 Jefferson St.,Riverside, NJ,08075\n",
    "Stephen,Tyler,\"7452 Terrace \"\"At the Plaza\"\" road\",SomeTown,SD, 91234\n",
    ",Blankman,,SomeTown, SD, 00298\n",
    "\"Joan \"\"the bone\"\", Anne\",Jet,\"9th, at Terrace plc\",Desert City,CO,00123\n",
    "```\n",
    "\n",
    "```tsv\n",
    "John     Doe     120 jefferson st.     Riverside      NJ      08075\n",
    "Jack     McGinnis     220 hobo Av.     Phila      PA     09119\n",
    "\"John \"\"Da Man\"\"\"     Repici     120 Jefferson St.     Riverside      NJ     08075\n",
    "Stephen     Tyler     \"7452 Terrace \"\"At the Plaza\"\" road\"     SomeTown     SD      91234\n",
    "     Blankman          SomeTown      SD      00298\n",
    "\"Joan \"\"the bone\"\"      Anne\"     Jet     \"9th, at Terrace plc\"     Desert City     CO     00123\n",
    "\n",
    "```\n",
    "\n",
    "### XML\n",
    "\n",
    "The eXtensible Markup Language or XML, is a specification for markup languages with roots going back to the 1980s and SGML (Standard Generalized Markup Language).  In the 1990s when HTML, the Web and standardized data exchange was becoming critically important, XML was quickly tasked with filling the void in standards-based, vendor-agnostic formats for data exchange.\n",
    "\n",
    "XML, while considered a verbose data format, can represent nearly any level of hiearchically nested data.  Unlike like its broken cousin HTML, XML is a well-formed format that when used in conjunction with XML Schema, can be validated as such.  Built atop the concepts of _elements_ and _attributes_, an XML document can express a wide range of data, and while designed to be machine parsable, it is _human-readable_ (if not a bit nauseating for complex nesting).  XML documents, as such are encoded in a text file and can be based on any suitable character set  &mdash; indeed, ASCII could represent a basic English-only XML document with no special characters.  XML is still a widely used data exchange format for enterprise applications and web data.\n",
    "\n",
    "An example XML fragment below will show the similarity to HTML.  When used with the proper Schema (XHTML), the document can be considered a reasonable example of an XML-valid document.\n",
    "\n",
    "```xml\n",
    "\n",
    "<letter>\n",
    "<to>John</to>\n",
    "<from>Gear</from>\n",
    "<heading>Hello There</heading>\n",
    "<body>I hope you are well.</body>\n",
    "</letter>\n",
    "```\n",
    "\n",
    "### JSON\n",
    "In more recent years (the last decade or so), the [JSON format](https://json.org/) has come to the fore as perhaps one of the most used and useful data formats for exchanging, storing and reusing data.  JavaScript Object Notation, as the name implies, is an artifact of the JavaScript community.  Like XML, JSON documents can have nested elements and has a strong key-value pair orientation.  In fact, one of the easiest ways to think about the data in a JSON object, _is exactly_ to think about it as one large key-value store.\n",
    "\n",
    "JSON can be encoded in ASCII or any other character set encoding (UTF-8 most common among them) and as such can be effeciently transmitted across operating systems, devices and transmission protocols.  Further, JSON objects can be directly transmitted from client to server and back in a way that allows it to be used directly by client or server Javascript code without any further conversion, making it an ideal choice in web application data exchange.\n",
    "\n",
    "You will find that JSON is a highly readable format and parsers exist for it on nearly every major computing platform from embedded devices to supercomputers.  Many newer datasets are encoded as JSON and a large number of APIs use JSON as the standard data format.\n",
    "\n",
    "```JSON\n",
    "{\"widget\": {\n",
    "    \"debug\": \"on\",\n",
    "    \"window\": {\n",
    "        \"title\": \"Sample Konfabulator Widget\",\n",
    "        \"name\": \"main_window\",\n",
    "        \"width\": 500,\n",
    "        \"height\": 500\n",
    "    },\n",
    "    \"image\": { \n",
    "        \"src\": \"Images/Sun.png\",\n",
    "        \"name\": \"sun1\",\n",
    "        \"hOffset\": 250,\n",
    "        \"vOffset\": 250,\n",
    "        \"alignment\": \"center\"\n",
    "    },\n",
    "    \"text\": {\n",
    "        \"data\": \"Click Here\",\n",
    "        \"size\": 36,\n",
    "        \"style\": \"bold\",\n",
    "        \"name\": \"text1\",\n",
    "        \"hOffset\": 250,\n",
    "        \"vOffset\": 100,\n",
    "        \"alignment\": \"center\",\n",
    "        \"onMouseUp\": \"sun1.opacity = (sun1.opacity / 100) * 90;\"\n",
    "    }\n",
    "}}\n",
    "\n",
    "```\n",
    "### Further Reading\n",
    "Robinson, G. S.; Cargill, C. (1996). \"History and impact of computer standards\". Computer. 29 (10): 79–85. [doi:10.1109/2.539725](https://dx.doi.org/10.1109/2.539725).\n",
    "\n",
    "Mullendore, Ralph Elvin (1964) [1963]. Ptak, John F. (ed.). \"On the Early Development of ASCII – The History of ASCII\". JF Ptak Science Books (published March 2012). Archived from the original on May 26, 2016. Retrieved May 26, 2016. [https://longstreet.typepad.com/thesciencebookstore/2012/03/heres-the-link.html](https://longstreet.typepad.com/thesciencebookstore/2012/03/heres-the-link.html)"
   ]
  },
  {
   "cell_type": "markdown",
   "metadata": {
    "slideshow": {
     "slide_type": "slide"
    }
   },
   "source": [
    "# Representing Data\n",
    "\n",
    "Our discussion of data formats leads us to a natural question: if there are so many formats, how should we handle _abstractions_ of those formats so that we can do data analysis consistently and rigorously?\n",
    "\n",
    "The answer to representing data is to cast data into a _model_ that provides independence from the format.  Since many data can be seen as a set of attributes (e.g. keys) and their corresponding values, a common representation is a matrix. We can then consider each row of the matrix as a single data object where the column values of the row map to attributes and values of the object.  This can be extended further to extend the matrix by the number of rows for which there are data objects.\n",
    "\n",
    "We can therefore represent data $D$ as a $n \\times m$ matrix with $n$ rows of data corresponding to the $n$ data objects in the source data format, and $m$ columns representing the $m$ keys of the source data object (we assume that all objects have the same keys, and where keys are missing their missing values are store as an appropriate target value).\n",
    "\n",
    "Here is the generalized representation of data:"
   ]
  },
  {
   "cell_type": "markdown",
   "metadata": {
    "slideshow": {
     "slide_type": "fragment"
    }
   },
   "source": [
    "$$\n",
    "D = \\begin{bmatrix}\n",
    "       d_{1,1} & d_{1,2} & \\ldots & d_{1,m} \\\\[0.3em]\n",
    "       d_{2,1} & d_{2,2} & \\ldots & d_{2,m} \\\\[0.3em]\n",
    "        \\vdots &         & \\ddots &         \\\\[0.3em]\n",
    "       d_{n,1} & d_{n,2} & \\ldots & d_{n,m} \\\\[0.3em]\n",
    "     \\end{bmatrix}\n",
    "$$\n",
    "\n",
    "Similarly, let each row in the matrix be represented as a vector, we can succintly represent it:\n",
    "\n",
    "$$\n",
    "D = \\begin{bmatrix}\n",
    "        \\mathbf{d_1} \\\\[0.3em]\n",
    "        \\mathbf{d_2} \\\\[0.3em]\n",
    "            \\vdots \\\\[0.3em]\n",
    "        \\mathbf{d_n} \\\\[0.3em]\n",
    "    \\end{bmatrix}\n",
    "$$"
   ]
  },
  {
   "cell_type": "markdown",
   "metadata": {
    "slideshow": {
     "slide_type": "subslide"
    }
   },
   "source": [
    "We can now look at how this is handled in code.\n",
    "\n",
    "As you have already seen, [Pandas](https://pandas.pydata.org) provides a key implementation of our data matrix representation in the [DataFrame](https://pandas.pydata.org/pandas-docs/stable/reference/frame.html) object.\n",
    "\n",
    "Let's see some code using it!"
   ]
  },
  {
   "cell_type": "code",
   "execution_count": 1,
   "metadata": {
    "slideshow": {
     "slide_type": "subslide"
    }
   },
   "outputs": [
    {
     "data": {
      "text/html": [
       "<div>\n",
       "<style scoped>\n",
       "    .dataframe tbody tr th:only-of-type {\n",
       "        vertical-align: middle;\n",
       "    }\n",
       "\n",
       "    .dataframe tbody tr th {\n",
       "        vertical-align: top;\n",
       "    }\n",
       "\n",
       "    .dataframe thead th {\n",
       "        text-align: right;\n",
       "    }\n",
       "</style>\n",
       "<table border=\"1\" class=\"dataframe\">\n",
       "  <thead>\n",
       "    <tr style=\"text-align: right;\">\n",
       "      <th></th>\n",
       "      <th>0</th>\n",
       "      <th>1</th>\n",
       "      <th>2</th>\n",
       "      <th>3</th>\n",
       "      <th>4</th>\n",
       "      <th>5</th>\n",
       "      <th>6</th>\n",
       "      <th>7</th>\n",
       "      <th>8</th>\n",
       "      <th>9</th>\n",
       "    </tr>\n",
       "  </thead>\n",
       "  <tbody>\n",
       "    <tr>\n",
       "      <td>0</td>\n",
       "      <td>0</td>\n",
       "      <td>1</td>\n",
       "      <td>2</td>\n",
       "      <td>3</td>\n",
       "      <td>4</td>\n",
       "      <td>5</td>\n",
       "      <td>6</td>\n",
       "      <td>7</td>\n",
       "      <td>8</td>\n",
       "      <td>9</td>\n",
       "    </tr>\n",
       "    <tr>\n",
       "      <td>1</td>\n",
       "      <td>10</td>\n",
       "      <td>11</td>\n",
       "      <td>12</td>\n",
       "      <td>13</td>\n",
       "      <td>14</td>\n",
       "      <td>15</td>\n",
       "      <td>16</td>\n",
       "      <td>17</td>\n",
       "      <td>18</td>\n",
       "      <td>19</td>\n",
       "    </tr>\n",
       "    <tr>\n",
       "      <td>2</td>\n",
       "      <td>20</td>\n",
       "      <td>21</td>\n",
       "      <td>22</td>\n",
       "      <td>23</td>\n",
       "      <td>24</td>\n",
       "      <td>25</td>\n",
       "      <td>26</td>\n",
       "      <td>27</td>\n",
       "      <td>28</td>\n",
       "      <td>29</td>\n",
       "    </tr>\n",
       "    <tr>\n",
       "      <td>3</td>\n",
       "      <td>30</td>\n",
       "      <td>31</td>\n",
       "      <td>32</td>\n",
       "      <td>33</td>\n",
       "      <td>34</td>\n",
       "      <td>35</td>\n",
       "      <td>36</td>\n",
       "      <td>37</td>\n",
       "      <td>38</td>\n",
       "      <td>39</td>\n",
       "    </tr>\n",
       "    <tr>\n",
       "      <td>4</td>\n",
       "      <td>40</td>\n",
       "      <td>41</td>\n",
       "      <td>42</td>\n",
       "      <td>43</td>\n",
       "      <td>44</td>\n",
       "      <td>45</td>\n",
       "      <td>46</td>\n",
       "      <td>47</td>\n",
       "      <td>48</td>\n",
       "      <td>49</td>\n",
       "    </tr>\n",
       "    <tr>\n",
       "      <td>5</td>\n",
       "      <td>50</td>\n",
       "      <td>51</td>\n",
       "      <td>52</td>\n",
       "      <td>53</td>\n",
       "      <td>54</td>\n",
       "      <td>55</td>\n",
       "      <td>56</td>\n",
       "      <td>57</td>\n",
       "      <td>58</td>\n",
       "      <td>59</td>\n",
       "    </tr>\n",
       "    <tr>\n",
       "      <td>6</td>\n",
       "      <td>60</td>\n",
       "      <td>61</td>\n",
       "      <td>62</td>\n",
       "      <td>63</td>\n",
       "      <td>64</td>\n",
       "      <td>65</td>\n",
       "      <td>66</td>\n",
       "      <td>67</td>\n",
       "      <td>68</td>\n",
       "      <td>69</td>\n",
       "    </tr>\n",
       "    <tr>\n",
       "      <td>7</td>\n",
       "      <td>70</td>\n",
       "      <td>71</td>\n",
       "      <td>72</td>\n",
       "      <td>73</td>\n",
       "      <td>74</td>\n",
       "      <td>75</td>\n",
       "      <td>76</td>\n",
       "      <td>77</td>\n",
       "      <td>78</td>\n",
       "      <td>79</td>\n",
       "    </tr>\n",
       "    <tr>\n",
       "      <td>8</td>\n",
       "      <td>80</td>\n",
       "      <td>81</td>\n",
       "      <td>82</td>\n",
       "      <td>83</td>\n",
       "      <td>84</td>\n",
       "      <td>85</td>\n",
       "      <td>86</td>\n",
       "      <td>87</td>\n",
       "      <td>88</td>\n",
       "      <td>89</td>\n",
       "    </tr>\n",
       "    <tr>\n",
       "      <td>9</td>\n",
       "      <td>90</td>\n",
       "      <td>91</td>\n",
       "      <td>92</td>\n",
       "      <td>93</td>\n",
       "      <td>94</td>\n",
       "      <td>95</td>\n",
       "      <td>96</td>\n",
       "      <td>97</td>\n",
       "      <td>98</td>\n",
       "      <td>99</td>\n",
       "    </tr>\n",
       "  </tbody>\n",
       "</table>\n",
       "</div>"
      ],
      "text/plain": [
       "    0   1   2   3   4   5   6   7   8   9\n",
       "0   0   1   2   3   4   5   6   7   8   9\n",
       "1  10  11  12  13  14  15  16  17  18  19\n",
       "2  20  21  22  23  24  25  26  27  28  29\n",
       "3  30  31  32  33  34  35  36  37  38  39\n",
       "4  40  41  42  43  44  45  46  47  48  49\n",
       "5  50  51  52  53  54  55  56  57  58  59\n",
       "6  60  61  62  63  64  65  66  67  68  69\n",
       "7  70  71  72  73  74  75  76  77  78  79\n",
       "8  80  81  82  83  84  85  86  87  88  89\n",
       "9  90  91  92  93  94  95  96  97  98  99"
      ]
     },
     "execution_count": 1,
     "metadata": {},
     "output_type": "execute_result"
    }
   ],
   "source": [
    "import pandas as pd\n",
    "import numpy as np\n",
    "\n",
    "data = np.arange(0,100,1).reshape(10,10)\n",
    "df = pd.DataFrame(data)\n",
    "df"
   ]
  },
  {
   "cell_type": "code",
   "execution_count": 2,
   "metadata": {
    "slideshow": {
     "slide_type": "subslide"
    }
   },
   "outputs": [
    {
     "data": {
      "text/plain": [
       "0     0\n",
       "1    10\n",
       "2    20\n",
       "3    30\n",
       "4    40\n",
       "5    50\n",
       "6    60\n",
       "7    70\n",
       "8    80\n",
       "9    90\n",
       "Name: 0, dtype: int64"
      ]
     },
     "execution_count": 2,
     "metadata": {},
     "output_type": "execute_result"
    }
   ],
   "source": [
    "df[0] # column vector"
   ]
  },
  {
   "cell_type": "code",
   "execution_count": 3,
   "metadata": {
    "slideshow": {
     "slide_type": "-"
    }
   },
   "outputs": [
    {
     "data": {
      "text/html": [
       "<div>\n",
       "<style scoped>\n",
       "    .dataframe tbody tr th:only-of-type {\n",
       "        vertical-align: middle;\n",
       "    }\n",
       "\n",
       "    .dataframe tbody tr th {\n",
       "        vertical-align: top;\n",
       "    }\n",
       "\n",
       "    .dataframe thead th {\n",
       "        text-align: right;\n",
       "    }\n",
       "</style>\n",
       "<table border=\"1\" class=\"dataframe\">\n",
       "  <thead>\n",
       "    <tr style=\"text-align: right;\">\n",
       "      <th></th>\n",
       "      <th>0</th>\n",
       "      <th>1</th>\n",
       "      <th>2</th>\n",
       "      <th>3</th>\n",
       "      <th>4</th>\n",
       "      <th>5</th>\n",
       "      <th>6</th>\n",
       "      <th>7</th>\n",
       "      <th>8</th>\n",
       "      <th>9</th>\n",
       "    </tr>\n",
       "  </thead>\n",
       "  <tbody>\n",
       "    <tr>\n",
       "      <td>1</td>\n",
       "      <td>10</td>\n",
       "      <td>11</td>\n",
       "      <td>12</td>\n",
       "      <td>13</td>\n",
       "      <td>14</td>\n",
       "      <td>15</td>\n",
       "      <td>16</td>\n",
       "      <td>17</td>\n",
       "      <td>18</td>\n",
       "      <td>19</td>\n",
       "    </tr>\n",
       "  </tbody>\n",
       "</table>\n",
       "</div>"
      ],
      "text/plain": [
       "    0   1   2   3   4   5   6   7   8   9\n",
       "1  10  11  12  13  14  15  16  17  18  19"
      ]
     },
     "execution_count": 3,
     "metadata": {},
     "output_type": "execute_result"
    }
   ],
   "source": [
    "df[1:2] # row vector"
   ]
  },
  {
   "cell_type": "markdown",
   "metadata": {
    "slideshow": {
     "slide_type": "subslide"
    }
   },
   "source": [
    "# The Nature of Data"
   ]
  },
  {
   "cell_type": "markdown",
   "metadata": {
    "slideshow": {
     "slide_type": "fragment"
    }
   },
   "source": [
    "Data in an of itself is an interesting topic from the perspective of storing it, providing access to it, developing provenance and metadata for it and is the subject of intense study for information scientists.  However, our biggest interest in data &mdash; from the perspective of data mining &mdash; is to _study data to find patterns in the data_.\n",
    "\n",
    "We want to find patterns for several reasons.  First, we need to understand the underlying nature of the data; simple statistical information about _how much_ data we have is an excellent starting point, but more importantly, we want to understand the _type_ of data and the _distribution_ of data by attributes.  We might then like to know how data are related to each other, for example which data are most similar to one another, or which attributes are associated with one another.  All of these contribute to finding _patterns_ in data and we will begin to talk about them formally and mathematically shortly, but before we do let's make them concrete through exploring some examples."
   ]
  },
  {
   "cell_type": "markdown",
   "metadata": {
    "slideshow": {
     "slide_type": "subslide"
    }
   },
   "source": [
    "## See a pattern in the Data?\n",
    "\n",
    "When we look at the following example, we would likely say we do not see much pattern in the visual representations of the two data below:"
   ]
  },
  {
   "cell_type": "code",
   "execution_count": 4,
   "metadata": {
    "slideshow": {
     "slide_type": "-"
    }
   },
   "outputs": [
    {
     "data": {
      "text/plain": [
       "<matplotlib.axes._subplots.AxesSubplot at 0x7ff2022711d0>"
      ]
     },
     "execution_count": 4,
     "metadata": {},
     "output_type": "execute_result"
    },
    {
     "data": {
      "image/png": "[encoded data removed]",
      "text/plain": [
       "<Figure size 432x288 with 1 Axes>"
      ]
     },
     "metadata": {
      "needs_background": "light"
     },
     "output_type": "display_data"
    }
   ],
   "source": [
    "%matplotlib inline\n",
    "import pandas as pd\n",
    "import numpy as np\n",
    "\n",
    "data = np.random.randint(1, high=100, size=(25,2))\n",
    "df = pd.DataFrame(data, columns=[\"x\",\"y\"])\n",
    "df.plot(x=\"x\", y=\"y\", kind=\"scatter\")"
   ]
  },
  {
   "cell_type": "code",
   "execution_count": 5,
   "metadata": {
    "slideshow": {
     "slide_type": "notes"
    }
   },
   "outputs": [
    {
     "data": {
      "text/plain": [
       "<matplotlib.axes._subplots.AxesSubplot at 0x7ff202a3b198>"
      ]
     },
     "execution_count": 5,
     "metadata": {},
     "output_type": "execute_result"
    },
    {
     "data": {
      "image/png": "[encoded data removed]",
      "text/plain": [
       "<Figure size 432x288 with 1 Axes>"
      ]
     },
     "metadata": {
      "needs_background": "light"
     },
     "output_type": "display_data"
    }
   ],
   "source": [
    "data_x = np.arange(1, 51, 1).reshape((50,1))\n",
    "data_y = np.random.randint(1, 1000, size=50).reshape((50,1))\n",
    "data_xy = np.array([data_x, data_y]).reshape((2,50)).T\n",
    "\n",
    "df = pd.DataFrame(data_xy, columns=[\"x\",\"y\"])\n",
    "df.plot(x=\"x\", y=\"y\", kind=\"scatter\")"
   ]
  },
  {
   "cell_type": "code",
   "execution_count": 6,
   "metadata": {
    "slideshow": {
     "slide_type": "subslide"
    }
   },
   "outputs": [
    {
     "data": {
      "text/plain": [
       "<matplotlib.axes._subplots.AxesSubplot at 0x7ff201f5edd8>"
      ]
     },
     "execution_count": 6,
     "metadata": {},
     "output_type": "execute_result"
    },
    {
     "data": {
      "image/png": "[encoded data removed]",
      "text/plain": [
       "<Figure size 432x288 with 1 Axes>"
      ]
     },
     "metadata": {
      "needs_background": "light"
     },
     "output_type": "display_data"
    }
   ],
   "source": [
    "data_x = np.arange(1, 101)\n",
    "data_y = 20 + 3 * data_x + np.random.normal(0, 60, 100)\n",
    "data_xy = np.array([data_x, data_y]).reshape((2,100)).T\n",
    "\n",
    "df = pd.DataFrame(data_xy, columns=[\"x\",\"y\"])\n",
    "df.plot(x=\"x\", y=\"y\", kind=\"scatter\")"
   ]
  },
  {
   "cell_type": "markdown",
   "metadata": {},
   "source": [
    "You probably can agree that, different from the prior two examples, this data presents some kind of pattern &mdash; the points seem to be increasing in $x$ while also positively increasing with $y$.  We would like to develop a stronger mathematical understanding of this now."
   ]
  },
  {
   "cell_type": "markdown",
   "metadata": {
    "slideshow": {
     "slide_type": "slide"
    }
   },
   "source": [
    "# Data Patterns: Centrality, Distance and Similarity\n",
    "\n",
    "* We are often confronted with understanding how two vectors are related\n",
    "* For our purposes are dealing with the mostly in the vector space of real values, $\\mathbb{R}^n$\n",
    "* That means that conceptually, we will convert nominal features (variables) to numeric ones"
   ]
  },
  {
   "cell_type": "markdown",
   "metadata": {
    "slideshow": {
     "slide_type": "subslide"
    }
   },
   "source": [
    "## Centrality\n",
    "\n",
    "* we will begin with centrality: mean, median, mode, expected value"
   ]
  },
  {
   "cell_type": "markdown",
   "metadata": {
    "slideshow": {
     "slide_type": "subslide"
    }
   },
   "source": [
    "#### MEAN\n",
    "\n",
    "Let $X$ be a set of values in our dataset (including the entire dataset), then and let $n = \\big|X\\big|$\n",
    "\n",
    "$$ \\bar{X} = \\mu_X = { {1 \\over n} {\\sum_{x \\in X} x} } $$\n",
    "\n",
    "* _mean_, _arithmetic mean_ and _average_ referring to the same thing\n",
    "* it is an essential concept of the central values of a data set\n",
    "* man can be influenced by extreme values"
   ]
  },
  {
   "cell_type": "markdown",
   "metadata": {
    "slideshow": {
     "slide_type": "subslide"
    }
   },
   "source": [
    "#### MEDIAN\n",
    "\n",
    "Let $X$ be a set of values in our dataset, then the _median_ is the middle value of $X$.\n",
    "\n",
    "* if $\\big | X \\big |$ is even, the median is ${1 \\over 2} \\big( x_{n \\over 2} + x_{\\frac{n}{2} + 1} \\big)$ ,\n",
    "* otherwise, the median is $ x_{n+1 \\over 2} $"
   ]
  },
  {
   "cell_type": "markdown",
   "metadata": {
    "slideshow": {
     "slide_type": "subslide"
    }
   },
   "source": [
    "#### MODE \n",
    "* the mode of a dataset $X$ is the most frequent value in $X$\n",
    "* mode can be useful for binned, discretized, non-numeric data (e.g. nominal data; most frequent car type in a particular town)\n",
    "* there can be more than one mode and thus bi- or multi-modal"
   ]
  },
  {
   "cell_type": "markdown",
   "metadata": {},
   "source": [
    "### Pandas Example\n",
    "\n",
    "To demonstrate these centrality features in Pandas, we'll show an example that uses some of the built-in convenience features available to use.\n",
    "\n",
    "We'll use a sunshine dataset from that contains thousands of records over many decades that show the number of sunshine hours by year and by month for a number of US cities.  \n",
    "\n",
    "Details of this dataset can be found here:\n",
    "* https://cdiac.ucsd.edu/ftp/ndp021/ndp021r1.txt\n"
   ]
  },
  {
   "cell_type": "code",
   "execution_count": 7,
   "metadata": {},
   "outputs": [],
   "source": [
    "import pandas as pd"
   ]
  },
  {
   "cell_type": "code",
   "execution_count": 8,
   "metadata": {},
   "outputs": [],
   "source": [
    "widths = [\n",
    "(2,6),                                   \n",
    "(7,12),                                   \n",
    "(13,15),                                    \n",
    "(17,35),                                   \n",
    "(37,41),                                \n",
    "(43,46),                                    \n",
    "(48,51),                                    \n",
    "(53,56),                                    \n",
    "(58,61),                                    \n",
    "(63,66),                                    \n",
    "(68,71),                                    \n",
    "(73,76),                                    \n",
    "(78,81),                                    \n",
    "(83,86),                                    \n",
    "(88,91),                                    \n",
    "(93,96),                                   \n",
    "(98,101),                                    \n",
    "(104,108)] \n",
    "df = pd.read_fwf(\"https://cdiac.ucsd.edu/ftp/ndp021/ndp021r1.f10\", colspecs=widths, header=None)"
   ]
  },
  {
   "cell_type": "code",
   "execution_count": 9,
   "metadata": {},
   "outputs": [
    {
     "data": {
      "text/html": [
       "<div>\n",
       "<style scoped>\n",
       "    .dataframe tbody tr th:only-of-type {\n",
       "        vertical-align: middle;\n",
       "    }\n",
       "\n",
       "    .dataframe tbody tr th {\n",
       "        vertical-align: top;\n",
       "    }\n",
       "\n",
       "    .dataframe thead th {\n",
       "        text-align: right;\n",
       "    }\n",
       "</style>\n",
       "<table border=\"1\" class=\"dataframe\">\n",
       "  <thead>\n",
       "    <tr style=\"text-align: right;\">\n",
       "      <th></th>\n",
       "      <th>WBAN</th>\n",
       "      <th>PWBAN</th>\n",
       "      <th>MON</th>\n",
       "      <th>STNAME</th>\n",
       "      <th>YEAR</th>\n",
       "      <th>JAN</th>\n",
       "      <th>FEB</th>\n",
       "      <th>MAR</th>\n",
       "      <th>APR</th>\n",
       "      <th>MAY</th>\n",
       "      <th>JUN</th>\n",
       "      <th>JUL</th>\n",
       "      <th>AUG</th>\n",
       "      <th>SEP</th>\n",
       "      <th>OCT</th>\n",
       "      <th>NOV</th>\n",
       "      <th>DEC</th>\n",
       "      <th>TOTAL</th>\n",
       "    </tr>\n",
       "  </thead>\n",
       "  <tbody>\n",
       "    <tr>\n",
       "      <td>0</td>\n",
       "      <td>3103</td>\n",
       "      <td>23166</td>\n",
       "      <td>1</td>\n",
       "      <td>AZ FLAGSTAFF</td>\n",
       "      <td>1908</td>\n",
       "      <td>237</td>\n",
       "      <td>249</td>\n",
       "      <td>326</td>\n",
       "      <td>343</td>\n",
       "      <td>399</td>\n",
       "      <td>423</td>\n",
       "      <td>325</td>\n",
       "      <td>298</td>\n",
       "      <td>308</td>\n",
       "      <td>298</td>\n",
       "      <td>279</td>\n",
       "      <td>233</td>\n",
       "      <td>3717</td>\n",
       "    </tr>\n",
       "    <tr>\n",
       "      <td>1</td>\n",
       "      <td>3103</td>\n",
       "      <td>23166</td>\n",
       "      <td>0</td>\n",
       "      <td>AZ FLAGSTAFF</td>\n",
       "      <td>1909</td>\n",
       "      <td>235</td>\n",
       "      <td>241</td>\n",
       "      <td>300</td>\n",
       "      <td>348</td>\n",
       "      <td>385</td>\n",
       "      <td>404</td>\n",
       "      <td>302</td>\n",
       "      <td>181</td>\n",
       "      <td>299</td>\n",
       "      <td>344</td>\n",
       "      <td>256</td>\n",
       "      <td>196</td>\n",
       "      <td>3493</td>\n",
       "    </tr>\n",
       "    <tr>\n",
       "      <td>2</td>\n",
       "      <td>3103</td>\n",
       "      <td>23166</td>\n",
       "      <td>0</td>\n",
       "      <td>AZ FLAGSTAFF</td>\n",
       "      <td>1910</td>\n",
       "      <td>232</td>\n",
       "      <td>265</td>\n",
       "      <td>314</td>\n",
       "      <td>329</td>\n",
       "      <td>401</td>\n",
       "      <td>398</td>\n",
       "      <td>303</td>\n",
       "      <td>279</td>\n",
       "      <td>313</td>\n",
       "      <td>305</td>\n",
       "      <td>259</td>\n",
       "      <td>243</td>\n",
       "      <td>3641</td>\n",
       "    </tr>\n",
       "    <tr>\n",
       "      <td>3</td>\n",
       "      <td>3103</td>\n",
       "      <td>23166</td>\n",
       "      <td>0</td>\n",
       "      <td>AZ FLAGSTAFF</td>\n",
       "      <td>1911</td>\n",
       "      <td>178</td>\n",
       "      <td>229</td>\n",
       "      <td>229</td>\n",
       "      <td>314</td>\n",
       "      <td>420</td>\n",
       "      <td>348</td>\n",
       "      <td>241</td>\n",
       "      <td>279</td>\n",
       "      <td>241</td>\n",
       "      <td>283</td>\n",
       "      <td>268</td>\n",
       "      <td>265</td>\n",
       "      <td>3295</td>\n",
       "    </tr>\n",
       "    <tr>\n",
       "      <td>4</td>\n",
       "      <td>3103</td>\n",
       "      <td>23166</td>\n",
       "      <td>0</td>\n",
       "      <td>AZ FLAGSTAFF</td>\n",
       "      <td>1912</td>\n",
       "      <td>274</td>\n",
       "      <td>276</td>\n",
       "      <td>-99</td>\n",
       "      <td>-99</td>\n",
       "      <td>-99</td>\n",
       "      <td>-99</td>\n",
       "      <td>-99</td>\n",
       "      <td>-99</td>\n",
       "      <td>-99</td>\n",
       "      <td>-99</td>\n",
       "      <td>-99</td>\n",
       "      <td>-99</td>\n",
       "      <td>-99</td>\n",
       "    </tr>\n",
       "    <tr>\n",
       "      <td>...</td>\n",
       "      <td>...</td>\n",
       "      <td>...</td>\n",
       "      <td>...</td>\n",
       "      <td>...</td>\n",
       "      <td>...</td>\n",
       "      <td>...</td>\n",
       "      <td>...</td>\n",
       "      <td>...</td>\n",
       "      <td>...</td>\n",
       "      <td>...</td>\n",
       "      <td>...</td>\n",
       "      <td>...</td>\n",
       "      <td>...</td>\n",
       "      <td>...</td>\n",
       "      <td>...</td>\n",
       "      <td>...</td>\n",
       "      <td>...</td>\n",
       "      <td>...</td>\n",
       "    </tr>\n",
       "    <tr>\n",
       "      <td>14350</td>\n",
       "      <td>4942</td>\n",
       "      <td>0</td>\n",
       "      <td>0</td>\n",
       "      <td>ND ELLENDALE</td>\n",
       "      <td>1928</td>\n",
       "      <td>169</td>\n",
       "      <td>200</td>\n",
       "      <td>275</td>\n",
       "      <td>325</td>\n",
       "      <td>364</td>\n",
       "      <td>332</td>\n",
       "      <td>387</td>\n",
       "      <td>331</td>\n",
       "      <td>273</td>\n",
       "      <td>189</td>\n",
       "      <td>148</td>\n",
       "      <td>172</td>\n",
       "      <td>3164</td>\n",
       "    </tr>\n",
       "    <tr>\n",
       "      <td>14351</td>\n",
       "      <td>4942</td>\n",
       "      <td>0</td>\n",
       "      <td>0</td>\n",
       "      <td>ND ELLENDALE</td>\n",
       "      <td>1929</td>\n",
       "      <td>172</td>\n",
       "      <td>192</td>\n",
       "      <td>205</td>\n",
       "      <td>249</td>\n",
       "      <td>350</td>\n",
       "      <td>374</td>\n",
       "      <td>375</td>\n",
       "      <td>337</td>\n",
       "      <td>151</td>\n",
       "      <td>224</td>\n",
       "      <td>144</td>\n",
       "      <td>137</td>\n",
       "      <td>2910</td>\n",
       "    </tr>\n",
       "    <tr>\n",
       "      <td>14352</td>\n",
       "      <td>4942</td>\n",
       "      <td>0</td>\n",
       "      <td>0</td>\n",
       "      <td>ND ELLENDALE</td>\n",
       "      <td>1930</td>\n",
       "      <td>162</td>\n",
       "      <td>174</td>\n",
       "      <td>262</td>\n",
       "      <td>268</td>\n",
       "      <td>298</td>\n",
       "      <td>366</td>\n",
       "      <td>413</td>\n",
       "      <td>322</td>\n",
       "      <td>303</td>\n",
       "      <td>163</td>\n",
       "      <td>169</td>\n",
       "      <td>140</td>\n",
       "      <td>3039</td>\n",
       "    </tr>\n",
       "    <tr>\n",
       "      <td>14353</td>\n",
       "      <td>4942</td>\n",
       "      <td>0</td>\n",
       "      <td>0</td>\n",
       "      <td>ND ELLENDALE</td>\n",
       "      <td>1931</td>\n",
       "      <td>188</td>\n",
       "      <td>187</td>\n",
       "      <td>210</td>\n",
       "      <td>316</td>\n",
       "      <td>311</td>\n",
       "      <td>348</td>\n",
       "      <td>385</td>\n",
       "      <td>324</td>\n",
       "      <td>298</td>\n",
       "      <td>177</td>\n",
       "      <td>171</td>\n",
       "      <td>165</td>\n",
       "      <td>3080</td>\n",
       "    </tr>\n",
       "    <tr>\n",
       "      <td>14354</td>\n",
       "      <td>4942</td>\n",
       "      <td>0</td>\n",
       "      <td>0</td>\n",
       "      <td>ND ELLENDALE</td>\n",
       "      <td>1932</td>\n",
       "      <td>154</td>\n",
       "      <td>199</td>\n",
       "      <td>251</td>\n",
       "      <td>216</td>\n",
       "      <td>287</td>\n",
       "      <td>374</td>\n",
       "      <td>396</td>\n",
       "      <td>320</td>\n",
       "      <td>287</td>\n",
       "      <td>159</td>\n",
       "      <td>173</td>\n",
       "      <td>192</td>\n",
       "      <td>3008</td>\n",
       "    </tr>\n",
       "  </tbody>\n",
       "</table>\n",
       "<p>14355 rows × 18 columns</p>\n",
       "</div>"
      ],
      "text/plain": [
       "       WBAN  PWBAN  MON        STNAME  YEAR  JAN  FEB  MAR  APR  MAY  JUN  \\\n",
       "0      3103  23166    1  AZ FLAGSTAFF  1908  237  249  326  343  399  423   \n",
       "1      3103  23166    0  AZ FLAGSTAFF  1909  235  241  300  348  385  404   \n",
       "2      3103  23166    0  AZ FLAGSTAFF  1910  232  265  314  329  401  398   \n",
       "3      3103  23166    0  AZ FLAGSTAFF  1911  178  229  229  314  420  348   \n",
       "4      3103  23166    0  AZ FLAGSTAFF  1912  274  276  -99  -99  -99  -99   \n",
       "...     ...    ...  ...           ...   ...  ...  ...  ...  ...  ...  ...   \n",
       "14350  4942      0    0  ND ELLENDALE  1928  169  200  275  325  364  332   \n",
       "14351  4942      0    0  ND ELLENDALE  1929  172  192  205  249  350  374   \n",
       "14352  4942      0    0  ND ELLENDALE  1930  162  174  262  268  298  366   \n",
       "14353  4942      0    0  ND ELLENDALE  1931  188  187  210  316  311  348   \n",
       "14354  4942      0    0  ND ELLENDALE  1932  154  199  251  216  287  374   \n",
       "\n",
       "       JUL  AUG  SEP  OCT  NOV  DEC  TOTAL  \n",
       "0      325  298  308  298  279  233   3717  \n",
       "1      302  181  299  344  256  196   3493  \n",
       "2      303  279  313  305  259  243   3641  \n",
       "3      241  279  241  283  268  265   3295  \n",
       "4      -99  -99  -99  -99  -99  -99    -99  \n",
       "...    ...  ...  ...  ...  ...  ...    ...  \n",
       "14350  387  331  273  189  148  172   3164  \n",
       "14351  375  337  151  224  144  137   2910  \n",
       "14352  413  322  303  163  169  140   3039  \n",
       "14353  385  324  298  177  171  165   3080  \n",
       "14354  396  320  287  159  173  192   3008  \n",
       "\n",
       "[14355 rows x 18 columns]"
      ]
     },
     "execution_count": 9,
     "metadata": {},
     "output_type": "execute_result"
    }
   ],
   "source": [
    "# we must reset the column names accordingly\n",
    "\n",
    "df.columns = [\"WBAN\",\n",
    "    \"PWBAN\", \"MON\",                                                                          \n",
    "    \"STNAME\", \"YEAR\",                                                                              \n",
    "    \"JAN\", \"FEB\", \"MAR\", \"APR\",                                                              \n",
    "    \"MAY\", \"JUN\", \"JUL\", \"AUG\", \"SEP\", \"OCT\", \"NOV\", \"DEC\", \"TOTAL\"]\n",
    "\n",
    "df"
   ]
  },
  {
   "cell_type": "markdown",
   "metadata": {},
   "source": [
    "Now the `df.mean()` and `df.median` functions will give us the data we need based on measures of centrality discussed before."
   ]
  },
  {
   "cell_type": "code",
   "execution_count": 10,
   "metadata": {},
   "outputs": [
    {
     "data": {
      "text/plain": [
       "221.09278350515464"
      ]
     },
     "execution_count": 10,
     "metadata": {},
     "output_type": "execute_result"
    }
   ],
   "source": [
    "df[df.STNAME == 'CA SAN DIEGO']['JAN'].mean()"
   ]
  },
  {
   "cell_type": "code",
   "execution_count": 11,
   "metadata": {},
   "outputs": [
    {
     "data": {
      "text/plain": [
       "88.71134020618557"
      ]
     },
     "execution_count": 11,
     "metadata": {},
     "output_type": "execute_result"
    }
   ],
   "source": [
    "df[df.STNAME == 'NY BUFFALO']['JAN'].mean()"
   ]
  },
  {
   "cell_type": "code",
   "execution_count": 12,
   "metadata": {},
   "outputs": [
    {
     "data": {
      "text/plain": [
       "168.39175257731958"
      ]
     },
     "execution_count": 12,
     "metadata": {},
     "output_type": "execute_result"
    }
   ],
   "source": [
    "df[df.STNAME == 'MO KANSAS CITY']['JAN'].mean()"
   ]
  },
  {
   "cell_type": "code",
   "execution_count": 13,
   "metadata": {},
   "outputs": [
    {
     "data": {
      "text/plain": [
       "155.0"
      ]
     },
     "execution_count": 13,
     "metadata": {},
     "output_type": "execute_result"
    }
   ],
   "source": [
    "df[df.STNAME == 'GA ATLANTA']['JAN'].median()"
   ]
  },
  {
   "cell_type": "code",
   "execution_count": 14,
   "metadata": {},
   "outputs": [
    {
     "data": {
      "text/plain": [
       "203.44329896907217"
      ]
     },
     "execution_count": 14,
     "metadata": {},
     "output_type": "execute_result"
    }
   ],
   "source": [
    "df[df.STNAME == 'CO DENVER']['JAN'].mean()"
   ]
  },
  {
   "cell_type": "code",
   "execution_count": 15,
   "metadata": {},
   "outputs": [
    {
     "data": {
      "text/plain": [
       "220.0"
      ]
     },
     "execution_count": 15,
     "metadata": {},
     "output_type": "execute_result"
    }
   ],
   "source": [
    "df[df.STNAME == 'CA SAN DIEGO']['JAN'].median()"
   ]
  },
  {
   "cell_type": "code",
   "execution_count": 16,
   "metadata": {},
   "outputs": [
    {
     "data": {
      "text/plain": [
       "count     97.000000\n",
       "mean     221.092784\n",
       "std       32.798019\n",
       "min      150.000000\n",
       "25%      199.000000\n",
       "50%      220.000000\n",
       "75%      247.000000\n",
       "max      283.000000\n",
       "Name: JAN, dtype: float64"
      ]
     },
     "execution_count": 16,
     "metadata": {},
     "output_type": "execute_result"
    }
   ],
   "source": [
    "df[df.STNAME == 'CA SAN DIEGO']['JAN'].describe()"
   ]
  },
  {
   "cell_type": "markdown",
   "metadata": {},
   "source": [
    "Given our small sample of cities, we can see that San Diego and Denver are the sunniest places in January (_hisorically_), but of course, there are even sunnier places and it will be an exercise for the curious to find out where the data leads."
   ]
  },
  {
   "cell_type": "markdown",
   "metadata": {
    "slideshow": {
     "slide_type": "subslide"
    }
   },
   "source": [
    "### EXPECTED VALUE\n",
    "\n",
    "We have shown that the mean of data is expressed as the _average_ of all its values, but we can also develop the concept of mean using probabilities.\n",
    "\n",
    "Said another way, the _expected value_ of data $X$, \n",
    "\n",
    "$$E[X] = { {\\sum_{x \\in X}} x \\Pr(x) } $$"
   ]
  },
  {
   "cell_type": "markdown",
   "metadata": {
    "slideshow": {
     "slide_type": "subslide"
    }
   },
   "source": [
    "We will note that when the probabilities are the uniform for all $x$, that is $Pr(x) = \\frac{1}{\\lvert X \\rvert}$,  then $E[X]$ is the arithmetic mean $\\bar{X}$ or\n",
    "\n",
    "$$E[X] = { 1 \\over n } { \\sum_{x \\in X} x }  $$\n",
    "\n",
    "where $n = \\frac{1}{\\lvert X \\rvert}$."
   ]
  },
  {
   "cell_type": "markdown",
   "metadata": {
    "slideshow": {
     "slide_type": "subslide"
    }
   },
   "source": [
    "As a side note on the basics of probability, let $E$ be a random event in an event space $S$.  The probability of $E \\in S$ is denoted $\\Pr(E)$ and the following also hold true:\n",
    "\n",
    "* $\\Pr(E) \\in \\mathbb{R}^n$\n",
    "* $\\Pr(E) \\ge 0;  \\forall E \\in S$\n",
    "* $\\Pr(E) + \\Pr(\\neg E) = 1$"
   ]
  },
  {
   "cell_type": "markdown",
   "metadata": {
    "slideshow": {
     "slide_type": "slide"
    }
   },
   "source": [
    "## DISTANCE AND SIMILARITY\n",
    "Now that we have a notion of centrality out of the way, let's retrain our focus on two other important concepts, _distance_ and _similarity_.  If we retrain our focus back on a dataset $D$, composed of $n$ data points and $m$ features $f_1, f_2, \\ldots, f_m$, let's also assume (for now) all the features are numeric features.  Let's also bring in some convenient notation again and express \n",
    " each data point as a vector of features $\\mathbf{d_i}$ written as\n",
    "$$\n",
    "D = \\begin{bmatrix}\n",
    "        \\mathbf{d_1} \\\\[0.3em]\n",
    "        \\mathbf{d_2} \\\\[0.3em]\n",
    "            \\vdots \\\\[0.3em]\n",
    "        \\mathbf{d_n} \\\\[0.3em]\n",
    "    \\end{bmatrix}.\n",
    "$$"
   ]
  },
  {
   "cell_type": "markdown",
   "metadata": {
    "slideshow": {
     "slide_type": "subslide"
    }
   },
   "source": [
    "Suppose an arbitrary $i$ and $j$  when $i,j \\le n$ \n",
    "what is the _distance_ from $\\mathbf{d_i}$ and $\\mathbf{d_j}$?  Another way of looking at _distance_ is to consider it a way to express _similarity_.  The more similar two vectors are, the smaller their distance.\n"
   ]
  },
  {
   "cell_type": "markdown",
   "metadata": {
    "slideshow": {
     "slide_type": "subslide"
    }
   },
   "source": [
    "### Euclidean distance: straight line distance\n",
    "\n",
    "One of the most important, fundamental and commonly used distance metrics over numeric data is **Euclidean** distance or also known as the **Euclidean metric**.  Euclidean distance provides the _straight line_ distance between points in 1 and 2 dimensions.  But what about when there are more than two dimensions?  Euclidean can provide the pairwise squared difference over $n$ dimensions quite easily as you will see in the examples below."
   ]
  },
  {
   "cell_type": "markdown",
   "metadata": {
    "slideshow": {
     "slide_type": "subslide"
    }
   },
   "source": [
    "In our examples below, we'll use $\\mathbf{x}$ and $\\mathbf{y}$ to denote $\\mathbf{d_i}$ and $\\mathbf{d_j}$, respectively. \n",
    "\n",
    "Let $\\mathbf{x} = (1, 2)$ and $\\mathbf{y} = (2,3)$\n",
    "\n",
    "\n",
    "The **Euclidean distance** is $$\\sqrt{ {({x}_{1} - {y}_{1}})^2  + ({x}_{2} - {y}_{2})^2} = 1$$\n",
    "\n",
    "... and this generalizes to the form we will more commonly use\n",
    "\n",
    "\n",
    "\n",
    "$$d_{euclidean}(\\mathbf{x},\\mathbf{y}) = \\sqrt{ ({x}_{i} - {y}_{j})^2  + \\cdots +({x}_{n} - {y}_{n})^2 }$$\n",
    "\n",
    " or more succinctly\n",
    " \n",
    "\n",
    "$$ d_{euclidean}(\\mathbf{x},\\mathbf{y}) = \\sqrt { \\sum_{i=1}^{n} \\big( x_{i} - y_{i} \\big)^2 } $$\n",
    "\n",
    "\n",
    "and in more familiar vector dot notation the _Euclidean norm_\n",
    "\n",
    "$$\\lvert \\mathbf{x} - \\mathbf{y} \\rvert = \\sqrt{(\\mathbf{x} - \\mathbf{y}) \\cdot (\\mathbf{x} - \\mathbf{y})}$$\n"
   ]
  },
  {
   "cell_type": "markdown",
   "metadata": {
    "slideshow": {
     "slide_type": "subslide"
    }
   },
   "source": [
    "Euclidean is but one of several distance metrics available to us, here are some others ..."
   ]
  },
  {
   "cell_type": "markdown",
   "metadata": {
    "slideshow": {
     "slide_type": "subslide"
    }
   },
   "source": [
    "#### Manhattan Distance: Rectilinear distance\n",
    "\n",
    "Another useful distance metrics \n",
    "* the rectilinear \"taxi cab\" distance between two points.\n",
    "* the Manhattan distance of two points is equal to sum of length the horizontal and vertical distances (contrast with the diagonal or \"crows flies\" distance\").\n",
    "\n",
    "$$ d_{manhattan}(\\mathbf{x},\\mathbf{y}) = \\sum_{i=1}^N \\lvert x_i - y_i \\rvert$$"
   ]
  },
  {
   "cell_type": "markdown",
   "metadata": {
    "slideshow": {
     "slide_type": "subslide"
    }
   },
   "source": [
    "<img src=\"01_assets/Manhattan_distance.svg\"/>\n"
   ]
  },
  {
   "cell_type": "markdown",
   "metadata": {
    "slideshow": {
     "slide_type": "subslide"
    }
   },
   "source": [
    "#### Minkoski Distance\n",
    "* generalized distance metric where generally $1 \\lt p \\le 2$\n",
    "* when $p=2$ Minkoski is the Euclidean distance, \n",
    "* and when $p=1$ it is the Manhattan distance\n",
    "\n",
    "$$ d_{minkowski}(\\mathbf{x},\\mathbf{y}) =\n",
    "\\big(\n",
    "\\sum_{i=1}^n { \\big| x_i - y_i \\big| }^p\n",
    "\\big)^{1/p}\n",
    "$$"
   ]
  },
  {
   "cell_type": "markdown",
   "metadata": {
    "slideshow": {
     "slide_type": "subslide"
    }
   },
   "source": [
    "#### Mahalanobis distance\n",
    "*  a unitless, scale-invariant distance metric \n",
    "*  accounts for the number of standard deviations a vector is from the mean of the dataset $D$\n",
    "*  Mahalanobis accounts for correlations in a data set and can be valuable in detecting outliers\n",
    "\n",
    "This measurement can be used as a similarity metric when comparing two data vectors $\\mathbf{x}$ and $\\mathbf{y}$.\n",
    "\n",
    "$$ d_{mahalanobis}(\\mathbf{x}, \\mathbf{y}) =  \\sqrt { (\\mathbf{x}-\\mathbf{y})^{T} S^{-1} (\\mathbf{x}-\\mathbf{y}) }\n",
    "$$\n",
    "\n",
    "with $S$ the covariance matrix.  We will re-visit this metric and explore the details of the implementation.\n"
   ]
  },
  {
   "cell_type": "markdown",
   "metadata": {
    "slideshow": {
     "slide_type": "subslide"
    }
   },
   "source": [
    "### Example\n",
    "\n",
    "Let's take a look again at our sunshine data.  Let's say we wanted to know how similar the _annual monthly sunshine_ was for two cities.  Of course, in this simple example, we could just look at this "
   ]
  },
  {
   "cell_type": "code",
   "execution_count": 17,
   "metadata": {
    "slideshow": {
     "slide_type": "subslide"
    }
   },
   "outputs": [],
   "source": [
    "from sklearn.metrics import pairwise_distances"
   ]
  },
  {
   "cell_type": "code",
   "execution_count": 18,
   "metadata": {},
   "outputs": [],
   "source": [
    "buf = df[df.STNAME == 'NY BUFFALO'].loc[:,'JAN':'DEC'].mean()\n",
    "den = df[df.STNAME == 'CO DENVER'].loc[:,'JAN':'DEC'].mean()\n",
    "sdc = df[df.STNAME == 'CA SAN DIEGO'].loc[:,'JAN':'DEC'].mean()\n",
    "dgc = df[df.STNAME == 'KS DODGE CITY'].loc[:,'JAN':'DEC'].mean()\n",
    "wdc = df[df.STNAME == 'DC WASHINGTON'].loc[:,'JAN':'DEC'].mean()"
   ]
  },
  {
   "cell_type": "code",
   "execution_count": 19,
   "metadata": {},
   "outputs": [
    {
     "data": {
      "text/plain": [
       "array([[0.00000000e+00, 2.49594755e+02, 2.99607324e+02, 2.72551918e+02,\n",
       "        1.33318229e+02],\n",
       "       [2.49594755e+02, 1.52587891e-05, 8.55007053e+01, 6.11591602e+01,\n",
       "        1.34919750e+02],\n",
       "       [2.99607324e+02, 8.55007053e+01, 0.00000000e+00, 1.21399874e+02,\n",
       "        1.73492922e+02],\n",
       "       [2.72551918e+02, 6.11591602e+01, 1.21399874e+02, 0.00000000e+00,\n",
       "        1.75868208e+02],\n",
       "       [1.33318229e+02, 1.34919750e+02, 1.73492922e+02, 1.75868208e+02,\n",
       "        0.00000000e+00]])"
      ]
     },
     "execution_count": 19,
     "metadata": {},
     "output_type": "execute_result"
    }
   ],
   "source": [
    "pairwise_distances([buf, den, sdc, dgc, wdc], metric='euclidean')"
   ]
  },
  {
   "cell_type": "markdown",
   "metadata": {},
   "source": [
    "To make this a bit easier to read, we'll convert it to a Pandas DatFrame and create a distance table showing the distance from each city to one another:"
   ]
  },
  {
   "cell_type": "code",
   "execution_count": 20,
   "metadata": {
    "slideshow": {
     "slide_type": "subslide"
    }
   },
   "outputs": [
    {
     "data": {
      "text/html": [
       "<div>\n",
       "<style scoped>\n",
       "    .dataframe tbody tr th:only-of-type {\n",
       "        vertical-align: middle;\n",
       "    }\n",
       "\n",
       "    .dataframe tbody tr th {\n",
       "        vertical-align: top;\n",
       "    }\n",
       "\n",
       "    .dataframe thead th {\n",
       "        text-align: right;\n",
       "    }\n",
       "</style>\n",
       "<table border=\"1\" class=\"dataframe\">\n",
       "  <thead>\n",
       "    <tr style=\"text-align: right;\">\n",
       "      <th></th>\n",
       "      <th>BUFFALO</th>\n",
       "      <th>DENVER</th>\n",
       "      <th>SAN DIEGO</th>\n",
       "      <th>DODGE CITY</th>\n",
       "      <th>WASH DC</th>\n",
       "    </tr>\n",
       "  </thead>\n",
       "  <tbody>\n",
       "    <tr>\n",
       "      <td>BUFFALO</td>\n",
       "      <td>0.000000</td>\n",
       "      <td>249.594755</td>\n",
       "      <td>299.607324</td>\n",
       "      <td>272.551918</td>\n",
       "      <td>133.318229</td>\n",
       "    </tr>\n",
       "    <tr>\n",
       "      <td>DENVER</td>\n",
       "      <td>249.594755</td>\n",
       "      <td>0.000015</td>\n",
       "      <td>85.500705</td>\n",
       "      <td>61.159160</td>\n",
       "      <td>134.919750</td>\n",
       "    </tr>\n",
       "    <tr>\n",
       "      <td>SAN DIEGO</td>\n",
       "      <td>299.607324</td>\n",
       "      <td>85.500705</td>\n",
       "      <td>0.000000</td>\n",
       "      <td>121.399874</td>\n",
       "      <td>173.492922</td>\n",
       "    </tr>\n",
       "    <tr>\n",
       "      <td>DODGE CITY</td>\n",
       "      <td>272.551918</td>\n",
       "      <td>61.159160</td>\n",
       "      <td>121.399874</td>\n",
       "      <td>0.000000</td>\n",
       "      <td>175.868208</td>\n",
       "    </tr>\n",
       "    <tr>\n",
       "      <td>WASH DC</td>\n",
       "      <td>133.318229</td>\n",
       "      <td>134.919750</td>\n",
       "      <td>173.492922</td>\n",
       "      <td>175.868208</td>\n",
       "      <td>0.000000</td>\n",
       "    </tr>\n",
       "  </tbody>\n",
       "</table>\n",
       "</div>"
      ],
      "text/plain": [
       "               BUFFALO      DENVER   SAN DIEGO  DODGE CITY     WASH DC\n",
       "BUFFALO       0.000000  249.594755  299.607324  272.551918  133.318229\n",
       "DENVER      249.594755    0.000015   85.500705   61.159160  134.919750\n",
       "SAN DIEGO   299.607324   85.500705    0.000000  121.399874  173.492922\n",
       "DODGE CITY  272.551918   61.159160  121.399874    0.000000  175.868208\n",
       "WASH DC     133.318229  134.919750  173.492922  175.868208    0.000000"
      ]
     },
     "execution_count": 20,
     "metadata": {},
     "output_type": "execute_result"
    }
   ],
   "source": [
    "pd.DataFrame(pairwise_distances([buf, den, sdc, dgc, wdc], metric='euclidean'), \n",
    "             columns=['BUFFALO', 'DENVER', 'SAN DIEGO', 'DODGE CITY', 'WASH DC'],\n",
    "             index=['BUFFALO', 'DENVER', 'SAN DIEGO', 'DODGE CITY', 'WASH DC'])"
   ]
  },
  {
   "cell_type": "markdown",
   "metadata": {},
   "source": [
    "What have we learned here?  It looks like with the sample data we have, Denver and Dodge City have similar sunshine profiles &mdash; their distance is 61.15, and the closer the 0, the more similar they are.  Also, we find Denver is similar to San Diego, which is interesting, given Denver has winter weather while San Diego does not.  Finally, Buffalo is similar to Washington, DC, but not as similar as one might expect.  Indeed, of places with winter, it looks like Buffalo is the least sunny, assuming San Diego is typically sunny, being a coastal climate with average annual temperatures in the 70s."
   ]
  },
  {
   "cell_type": "markdown",
   "metadata": {
    "slideshow": {
     "slide_type": "subslide"
    }
   },
   "source": [
    "### What about data that may not be numeric?\n",
    "\n",
    "We said before that Euclidean derives it's data over $\\mathbb{R}$, but of course the world of data is not restricted to real numbers and indeed the most interesting problems are often not numerically represented, _natively_.  Take for example, strings or words that make up the English language.  How would we compare something like the words \"word\" and \"work\".  Upon visual inspection, you would immediately say these two words are much closer to one another than say \"work\" and \"sort\".  Why?\n",
    "\n",
    "One distance metric that is commonly used to convert works to comparable things is _Hamming Distance_.\n"
   ]
  },
  {
   "cell_type": "markdown",
   "metadata": {
    "slideshow": {
     "slide_type": "fragment"
    }
   },
   "source": [
    "#### HAMMING DISTANCE\n",
    "\n",
    "Hamming distance is an import metric that sums the positional differences between two vectors of the same length.  That is to say, given two vectors $v_1$ and $v_2$ with $\\lvert v_1 \\rvert = \\lvert v_2 \\rvert$, the Hamming distance \n",
    "counts the positional differences between $v_1$ and $v_2$.  This is important because, for two words that are the same length, Hamming can be useful in comparing how many positions they differ by and act as a measure of similarity.\n",
    "\n",
    "Let's look at a few examples."
   ]
  },
  {
   "cell_type": "markdown",
   "metadata": {
    "slideshow": {
     "slide_type": "subslide"
    }
   },
   "source": [
    "**Numeric Vector Example**\n",
    "\n",
    "* consider two **numeric vectors**\n",
    "\n",
    "    $v_1 = (1,2,3,5)$ and $v_2 = (1,3,3,5)$  \n",
    "    * since they differ in only one position (the second), the Hamming distance is 1 \n",
    "\n",
    "**Binary Vector Example**\n",
    "\n",
    "Hamming distance becomes  useful even for  binary vectors:\n",
    "    \n",
    "* consider two **binary vectors** \n",
    "    \n",
    "    $v_1 = (1,0,0,1)$ and $v_2 = (0,0,0,0)$ \n",
    "    * Hamming distance is 2 since the first and last position are different "
   ]
  },
  {
   "cell_type": "markdown",
   "metadata": {
    "slideshow": {
     "slide_type": "subslide"
    }
   },
   "source": [
    "**String Example**\n",
    "\n",
    "* consider two words, \"firth\" and \"froth\"\n",
    "    * Hamming distance is 2, since the 2nd and third position are different\n",
    "    \n",
    "    \n",
    "* consider \"forth\" and \"great\"\n",
    "    * Hamming distance is 5, since none of the positions are in common"
   ]
  },
  {
   "cell_type": "markdown",
   "metadata": {},
   "source": [
    "In `sklearn` we can use the [`pairwise_distances`](https://scikit-learn.org/stable/modules/generated/sklearn.metrics.pairwise_distances.html) as before and set the `metric=hamming`.  The computation in `sklearn` is \n",
    "$$ \\frac{ n_{equal}(v_0, v_1) } { \\lvert v_0 \\lvert } $$\n",
    "\n",
    "where $n_{equal}$ is the number of positions vectors $v_0$ and $v_1$ are the same."
   ]
  },
  {
   "cell_type": "code",
   "execution_count": 21,
   "metadata": {},
   "outputs": [
    {
     "data": {
      "text/plain": [
       "array([[0.  , 0.25],\n",
       "       [0.25, 0.  ]])"
      ]
     },
     "execution_count": 21,
     "metadata": {},
     "output_type": "execute_result"
    }
   ],
   "source": [
    "from sklearn.metrics import pairwise_distances\n",
    "\n",
    "v0 = [0,0,0,0]\n",
    "v1 = [0,0,0,1]\n",
    "\n",
    "pairwise_distances([v0, v1], metric='hamming')"
   ]
  },
  {
   "cell_type": "code",
   "execution_count": 22,
   "metadata": {},
   "outputs": [
    {
     "data": {
      "text/plain": [
       "array([[0., 5.],\n",
       "       [5., 0.]])"
      ]
     },
     "execution_count": 22,
     "metadata": {},
     "output_type": "execute_result"
    }
   ],
   "source": [
    "v0 = [0,0,0,0]\n",
    "v1 = [1,1,1,1]\n",
    "\n",
    "pairwise_distances([v0, v1], metric='hamming')*5"
   ]
  },
  {
   "cell_type": "markdown",
   "metadata": {},
   "source": [
    "To convert the `sklearn` Hamming distance to the one in our original definition above, we'd need to multiply the result by $\\lvert v_0 \\rvert$ or `len(v0)`.  Thus,"
   ]
  },
  {
   "cell_type": "code",
   "execution_count": 23,
   "metadata": {},
   "outputs": [
    {
     "data": {
      "text/plain": [
       "array([[0., 4.],\n",
       "       [4., 0.]])"
      ]
     },
     "execution_count": 23,
     "metadata": {},
     "output_type": "execute_result"
    }
   ],
   "source": [
    "pairwise_distances([v0, v1], metric='hamming')*len(v0)"
   ]
  },
  {
   "cell_type": "markdown",
   "metadata": {},
   "source": [
    "**Hamming distance and strings**\n",
    "\n",
    "Now before, we talked about strings being a nice use case for Hamming, at least to determine the pairwise absolute differences.  But the [`pairwise_distances`](https://scikit-learn.org/stable/modules/generated/sklearn.metrics.pairwise_distances.html) method takes a vector of numbers, so how would we convert the string into a _comparable_ string of numbers.\n",
    "\n",
    "Python has a very useful [built-in](https://docs.python.org/3/library/functions.html) function called [`ord()`](https://docs.python.org/3/library/functions.html#ord) which takes as input a single character and returns it's unique integer Unicode point.  This will be a simple, quick and useful way of converting any string to a number and thus allowing us to convert a string of characters into a string of integers.\n",
    "\n",
    "Let's now see how we can do this."
   ]
  },
  {
   "cell_type": "code",
   "execution_count": 24,
   "metadata": {},
   "outputs": [],
   "source": [
    "# convert a string to a list of integers\n",
    "def str_to_int_list(s):\n",
    "    return list(map(ord, s))"
   ]
  },
  {
   "cell_type": "markdown",
   "metadata": {},
   "source": [
    "Now that we have this function, we can proceed."
   ]
  },
  {
   "cell_type": "code",
   "execution_count": 25,
   "metadata": {},
   "outputs": [
    {
     "data": {
      "text/plain": [
       "array([[0.        , 0.28571429],\n",
       "       [0.28571429, 0.        ]])"
      ]
     },
     "execution_count": 25,
     "metadata": {},
     "output_type": "execute_result"
    }
   ],
   "source": [
    "data = ['placing', 'spacing']\n",
    "\n",
    "v0 = str_to_int_list(data[0])\n",
    "v1 = str_to_int_list(data[1])\n",
    "\n",
    "pairwise_distances([v0, v1], metric='hamming')"
   ]
  },
  {
   "cell_type": "markdown",
   "metadata": {},
   "source": [
    "Notice the strings only differ in the first two positions.  Recall, the closer the distance is to 0, the more similar two strings are.  Converting to our original definition of Hamming where the result is an integer value $\\ge 0$,"
   ]
  },
  {
   "cell_type": "code",
   "execution_count": 26,
   "metadata": {},
   "outputs": [
    {
     "data": {
      "text/plain": [
       "array([[0., 2.],\n",
       "       [2., 0.]])"
      ]
     },
     "execution_count": 26,
     "metadata": {},
     "output_type": "execute_result"
    }
   ],
   "source": [
    "pairwise_distances([v0, v1], metric='hamming')*len(v0)"
   ]
  },
  {
   "cell_type": "markdown",
   "metadata": {
    "slideshow": {
     "slide_type": "subslide"
    }
   },
   "source": [
    "###  More binary vectors\n",
    " Recall, we have a real need to be concerned about binary vectors since\n",
    "1. in our digital world, many data can be converted to binary features (e.g. images, texts, audio, etc.), and\n",
    "2. the _algorithmic performance_ of binary vectors, while not human readable, trumps any non-binary representation."
   ]
  },
  {
   "cell_type": "markdown",
   "metadata": {
    "slideshow": {
     "slide_type": "subslide"
    }
   },
   "source": [
    "Now let's consider two vectors  $v_0 = (0, 1, 0, 1, 1)$ and $v_1 = (1, 1, 0, 0, 0)$.\n",
    "\n",
    "We used Hamming to give us a notion of the \"distance\" or \"difference\" between these vectors, but that distance was _pairwise_, meaning, there was no way to intuit their distance holistically.  That is to say, _how many_ 1's and 0's do they differ by.  Recalling our string example, it is also quite restrictive to consider only those strings with the same character count.  What would we say if we were to consider the number of _characters_ they have in common?  Hamming is of no use as it has been presented here.  Or is it?  What if we take a different approach and vectorize the characters.  For example, the words \"greater\" and \"[regrate](https://www.thefreedictionary.com/regrate)\" have all the same letters, yet there Hamming distance is 7 (i.e. the have no positions in common)."
   ]
  },
  {
   "cell_type": "code",
   "execution_count": 27,
   "metadata": {},
   "outputs": [
    {
     "data": {
      "text/plain": [
       "array([[0., 7.],\n",
       "       [7., 0.]])"
      ]
     },
     "execution_count": 27,
     "metadata": {},
     "output_type": "execute_result"
    }
   ],
   "source": [
    "from sklearn.metrics import pairwise_distances\n",
    "\n",
    "data = ['greater', 'regrate']\n",
    "\n",
    "v0 = str_to_int_list(data[0])\n",
    "v1 = str_to_int_list(data[1])\n",
    "\n",
    "pairwise_distances([v0, v1], metric='hamming')*len(v0)"
   ]
  },
  {
   "cell_type": "markdown",
   "metadata": {},
   "source": [
    "One way to deal with that is to map each letter as a feature in the vector, then compute the Hamming distance:"
   ]
  },
  {
   "cell_type": "code",
   "execution_count": 28,
   "metadata": {},
   "outputs": [
    {
     "data": {
      "text/plain": [
       "array([[1, 1, 1, 1, 1],\n",
       "       [1, 1, 1, 1, 1]], dtype=int64)"
      ]
     },
     "execution_count": 28,
     "metadata": {},
     "output_type": "execute_result"
    }
   ],
   "source": [
    "from sklearn.feature_extraction.text import CountVectorizer\n",
    "\n",
    "count_vectorizer = CountVectorizer(binary='true', tokenizer=lambda s: map(ord, s))\n",
    "data = count_vectorizer.fit_transform(data).toarray()\n",
    "data"
   ]
  },
  {
   "cell_type": "code",
   "execution_count": 29,
   "metadata": {},
   "outputs": [
    {
     "data": {
      "text/plain": [
       "array([[0., 0.],\n",
       "       [0., 0.]])"
      ]
     },
     "execution_count": 29,
     "metadata": {},
     "output_type": "execute_result"
    }
   ],
   "source": [
    "pairwise_distances(data, metric='hamming')"
   ]
  },
  {
   "cell_type": "markdown",
   "metadata": {},
   "source": [
    "Wow!  Notice that we still use `ord()`, we just pass it in to [`CountVectorizer`](https://scikit-learn.org/stable/modules/generated/sklearn.feature_extraction.text.CountVectorizer.html).  You will benefit from looking at that method more closely as it is critically important in text analysis."
   ]
  },
  {
   "cell_type": "markdown",
   "metadata": {
    "slideshow": {
     "slide_type": "subslide"
    }
   },
   "source": [
    "#### Further for binary similarity\n",
    "\n",
    "Turning back to pairwise similarity of _binary vectors_, let's take our intuitions further to ask a set of deeper questions:\n",
    "\n",
    "* How many times do they agree in the same pairwise position (they are both `1` or `True`?\n",
    "* How many times do they disagree?\n",
    "* How many times are they `False` together?"
   ]
  },
  {
   "cell_type": "markdown",
   "metadata": {
    "slideshow": {
     "slide_type": "subslide"
    }
   },
   "source": [
    "These questions will lead us to another metric that is built upon the answers to these questions.  We will first introduce the concept of a contigency table, then introduce the similarity metric.\n",
    "\n",
    "#### Contigency Table\n",
    "\n",
    "A contigency table as we will use it here is a 2x2 table consistenting of cells that map to the attributes of two binary vectors $v_0 = X$ and $v_1 = Y$.  We are going to use our intuitions from above to compute the contingency matrix like so:"
   ]
  },
  {
   "cell_type": "markdown",
   "metadata": {
    "slideshow": {
     "slide_type": "subslide"
    }
   },
   "source": [
    "<table>\n",
    "  <tr>\n",
    "    <td colspan=2/>\n",
    "    <th colspan=2 style=\"text-align:center\">A</th>\n",
    "  </tr>\n",
    "    <td colspan=2></td>\n",
    "    <td style=\"text-align:center\">True<br></td>\n",
    "    <td style=\"text-align:center\">False<br></td>\n",
    "  </tr>\n",
    "  <tr>\n",
    "    <td rowspan=2><b>B</b></td>\n",
    "    <td>True</td>\n",
    "    <td>M11 = # attributes True<br>in both X and Y<br></td>\n",
    "    <td>M01 = # attributes where <br>X is False and <br>Y is True<br></td>\n",
    "  </tr>\n",
    "  <tr>\n",
    "    <td>False</td>\n",
    "    <td>M10 = # attributes where<br>X is True and<br>Y is False<br></td>\n",
    "    <td>M00 = # attributes False <br>in both X and Y<br></td>\n",
    "  </tr>\n",
    "</table>"
   ]
  },
  {
   "cell_type": "markdown",
   "metadata": {
    "slideshow": {
     "slide_type": "subslide"
    }
   },
   "source": [
    "#### JACCARD SIMILARITY\n",
    "\n",
    "This contigency table forms the basis of our next metric, **Jaccard Similarity**. Jaccard is important because it is efficient, robust and used frequently in binary similarity metrics.\n",
    "\n",
    "Formally,\n",
    "\n",
    "$$ jaccard_{sim}(X, Y) = { {M_{11}(X,Y) } \\over {M_{10}(X,Y) + M_{01}(X,Y) +  M_{11}(X,Y)} }$$\n"
   ]
  },
  {
   "cell_type": "code",
   "execution_count": 30,
   "metadata": {},
   "outputs": [
    {
     "data": {
      "text/plain": [
       "0.6666666666666666"
      ]
     },
     "execution_count": 30,
     "metadata": {},
     "output_type": "execute_result"
    }
   ],
   "source": [
    "from sklearn.metrics import jaccard_similarity_score\n",
    "\n",
    "X = [1, 1, 0]\n",
    "Y = [1, 1, 1]\n",
    "\n",
    "\n",
    "jaccard_similarity_score(X, Y)"
   ]
  },
  {
   "cell_type": "markdown",
   "metadata": {},
   "source": [
    "Looking at the contigency matrix: $M_{00} = 0$, $M_{01} = 1$, $M_{11} = 2$ and $M_{10} = 0$.  Thus, \n",
    "\n",
    "$$\\frac{2}{0 + 1 + 2} = \\frac{2}{3} = 0.\\overline{6}$$"
   ]
  },
  {
   "cell_type": "markdown",
   "metadata": {},
   "source": [
    "Other metrics can be found in `sklearn.metrics` for nearly every practical distance metric needed."
   ]
  },
  {
   "cell_type": "markdown",
   "metadata": {
    "slideshow": {
     "slide_type": "slide"
    }
   },
   "source": [
    "## Dispersion and Disorder\n",
    "\n",
    "We turn our attention to other measures of understanding data, specifically dispersion and disorder.  By dispersion, we ."
   ]
  },
  {
   "cell_type": "markdown",
   "metadata": {
    "slideshow": {
     "slide_type": "fragment"
    }
   },
   "source": [
    "### Statistical Background : Variance, Covariance, Standard Deviation\n",
    "\n",
    "In your exposure to statistics, you might have come across the concept of _population_ statistic or _sample_ statistic.  As the words imply, _population_ statistic includes all the data and _sample_ involves a (most often random) subset of the data, though a sample could include the entire dataset and could include multiple samples from the same dataset.\n",
    "\n",
    "Terminology to indicate a _measureable_ characteristic of a _population_ is called a **parameter**.  You'll see this term commonly occur in statistical literature.  Further, a measureable characteristic of a _sample_ is called a **statistic**. If you ever get confused, just remember if you can measure the characteristic for **all** data points, it is a parameter.  If not, it is a statistic.  Often we are not able to compute population parameters, for example, it may not be possible or even economically feasible to ask adult in the US if they watched more than 1 hour of television last night, but it would be very possible to compile a sample statistic over a random sample of say 10% of the adult population, and if the random sample was selected truly randomly, the outcome might likely _estimate_ the population parameter accurately.  In our current big data era, and with the technologies now available to gather large amounts of complete data (sometimes unknowningly by the end user), population parameters are becoming easier to obtain.\n",
    "\n",
    "When we talked earlier about mean, we were talking about the mean of the entire dataset, and you'll notice we used $\\mu$ to denote the mean.  Now that we have introduced the concept of a sample, we will use slightly different notation.  The mean of a sample (or the mean statistic) is denoted $\\bar{X}$, while the population mean is still denoted $\\mu$. "
   ]
  },
  {
   "cell_type": "markdown",
   "metadata": {
    "slideshow": {
     "slide_type": "subslide"
    }
   },
   "source": [
    "Two  measures of *dispersion* of a dataset are **variance** and **standard deviation**.  They both tell us the spread of the data and are useful in understanding the variability in underlying data in ways that mean alone cannot.\n",
    "\n",
    "Variance computes the average squared of distance from the mean over all data points.  If $X$ is a population, the variance of $X$ is:\n",
    "\n",
    "$$var_X = { {1 \\over n} {\\sum_{}^n (x_i - \\mu)^2} }$$\n",
    "\n",
    "If $X$ is a sample, $x \\in X$ and $n = \\lvert X \\rvert$, the variance is:\n",
    "$$var_X = { {1 \\over {n-1}} {\\sum_{}^n (x_i - \\bar{X})^2} }$$\n",
    "\n",
    "where $\\bar{X}$ is the mean of the sample."
   ]
  },
  {
   "cell_type": "markdown",
   "metadata": {
    "slideshow": {
     "slide_type": "subslide"
    }
   },
   "source": [
    "Standard deviaton is the square root of variance, and is a good indicator of the spread of the data that brings the data back into the units of the original data.\n",
    "\n",
    "$$\\sigma_X = \\sqrt {var_X}$$"
   ]
  },
  {
   "cell_type": "markdown",
   "metadata": {
    "slideshow": {
     "slide_type": "subslide"
    }
   },
   "source": [
    "### Statistical Background: Joint Probability\n",
    "\n",
    "Probability will become an integral part of data mining activities, so its a good idea to review some of the basics of joint probability first.\n",
    "\n",
    "* let $x$ and $y$ be **_independent events_** in the event space $S$, $x,y \\in S$\n",
    "* the **joint probability** of $x, y$ is denoted $\\Pr(x,y)$ or $\\Pr(x \\wedge y)$\n",
    "* and is defined as \n",
    "$$ \\Pr(x,y) = \\Pr(x) \\cdot \\Pr(y)$$"
   ]
  },
  {
   "cell_type": "markdown",
   "metadata": {},
   "source": [
    "Let's play with an example to make these concepts more concrete.\n",
    "\n",
    "We will use a dataset https://raw.githubusercontent.com/bluenex/WekaLearningDataset/master/bank/bank-data.csv that has data points from a sample mortgage application data from a bank.  As you will see is has a number of interesting features: gender, income, martial status, etc."
   ]
  },
  {
   "cell_type": "code",
   "execution_count": 31,
   "metadata": {
    "slideshow": {
     "slide_type": "subslide"
    }
   },
   "outputs": [
    {
     "data": {
      "text/html": [
       "<div>\n",
       "<style scoped>\n",
       "    .dataframe tbody tr th:only-of-type {\n",
       "        vertical-align: middle;\n",
       "    }\n",
       "\n",
       "    .dataframe tbody tr th {\n",
       "        vertical-align: top;\n",
       "    }\n",
       "\n",
       "    .dataframe thead th {\n",
       "        text-align: right;\n",
       "    }\n",
       "</style>\n",
       "<table border=\"1\" class=\"dataframe\">\n",
       "  <thead>\n",
       "    <tr style=\"text-align: right;\">\n",
       "      <th></th>\n",
       "      <th>id</th>\n",
       "      <th>age</th>\n",
       "      <th>sex</th>\n",
       "      <th>region</th>\n",
       "      <th>income</th>\n",
       "      <th>married</th>\n",
       "      <th>children</th>\n",
       "      <th>car</th>\n",
       "      <th>save_act</th>\n",
       "      <th>current_act</th>\n",
       "      <th>mortgage</th>\n",
       "      <th>pep</th>\n",
       "    </tr>\n",
       "  </thead>\n",
       "  <tbody>\n",
       "    <tr>\n",
       "      <td>0</td>\n",
       "      <td>ID12101</td>\n",
       "      <td>48</td>\n",
       "      <td>FEMALE</td>\n",
       "      <td>INNER_CITY</td>\n",
       "      <td>17546.0</td>\n",
       "      <td>NO</td>\n",
       "      <td>1</td>\n",
       "      <td>NO</td>\n",
       "      <td>NO</td>\n",
       "      <td>NO</td>\n",
       "      <td>NO</td>\n",
       "      <td>YES</td>\n",
       "    </tr>\n",
       "    <tr>\n",
       "      <td>1</td>\n",
       "      <td>ID12102</td>\n",
       "      <td>40</td>\n",
       "      <td>MALE</td>\n",
       "      <td>TOWN</td>\n",
       "      <td>30085.1</td>\n",
       "      <td>YES</td>\n",
       "      <td>3</td>\n",
       "      <td>YES</td>\n",
       "      <td>NO</td>\n",
       "      <td>YES</td>\n",
       "      <td>YES</td>\n",
       "      <td>NO</td>\n",
       "    </tr>\n",
       "    <tr>\n",
       "      <td>2</td>\n",
       "      <td>ID12103</td>\n",
       "      <td>51</td>\n",
       "      <td>FEMALE</td>\n",
       "      <td>INNER_CITY</td>\n",
       "      <td>16575.4</td>\n",
       "      <td>YES</td>\n",
       "      <td>0</td>\n",
       "      <td>YES</td>\n",
       "      <td>YES</td>\n",
       "      <td>YES</td>\n",
       "      <td>NO</td>\n",
       "      <td>NO</td>\n",
       "    </tr>\n",
       "    <tr>\n",
       "      <td>3</td>\n",
       "      <td>ID12104</td>\n",
       "      <td>23</td>\n",
       "      <td>FEMALE</td>\n",
       "      <td>TOWN</td>\n",
       "      <td>20375.4</td>\n",
       "      <td>YES</td>\n",
       "      <td>3</td>\n",
       "      <td>NO</td>\n",
       "      <td>NO</td>\n",
       "      <td>YES</td>\n",
       "      <td>NO</td>\n",
       "      <td>NO</td>\n",
       "    </tr>\n",
       "    <tr>\n",
       "      <td>4</td>\n",
       "      <td>ID12105</td>\n",
       "      <td>57</td>\n",
       "      <td>FEMALE</td>\n",
       "      <td>RURAL</td>\n",
       "      <td>50576.3</td>\n",
       "      <td>YES</td>\n",
       "      <td>0</td>\n",
       "      <td>NO</td>\n",
       "      <td>YES</td>\n",
       "      <td>NO</td>\n",
       "      <td>NO</td>\n",
       "      <td>NO</td>\n",
       "    </tr>\n",
       "  </tbody>\n",
       "</table>\n",
       "</div>"
      ],
      "text/plain": [
       "        id  age     sex      region   income married  children  car save_act  \\\n",
       "0  ID12101   48  FEMALE  INNER_CITY  17546.0      NO         1   NO       NO   \n",
       "1  ID12102   40    MALE        TOWN  30085.1     YES         3  YES       NO   \n",
       "2  ID12103   51  FEMALE  INNER_CITY  16575.4     YES         0  YES      YES   \n",
       "3  ID12104   23  FEMALE        TOWN  20375.4     YES         3   NO       NO   \n",
       "4  ID12105   57  FEMALE       RURAL  50576.3     YES         0   NO      YES   \n",
       "\n",
       "  current_act mortgage  pep  \n",
       "0          NO       NO  YES  \n",
       "1         YES      YES   NO  \n",
       "2         YES       NO   NO  \n",
       "3         YES       NO   NO  \n",
       "4          NO       NO   NO  "
      ]
     },
     "execution_count": 31,
     "metadata": {},
     "output_type": "execute_result"
    }
   ],
   "source": [
    "import pandas as pd\n",
    "df = pd.read_csv(\"https://raw.githubusercontent.com/bluenex/WekaLearningDataset/master/bank/bank-data.csv\")\n",
    "df.head()"
   ]
  },
  {
   "cell_type": "markdown",
   "metadata": {
    "slideshow": {
     "slide_type": "subslide"
    }
   },
   "source": [
    "Let's see what is the $\\Pr(sex = \\mathrm{FEMALE})$?"
   ]
  },
  {
   "cell_type": "code",
   "execution_count": 32,
   "metadata": {
    "slideshow": {
     "slide_type": "fragment"
    }
   },
   "outputs": [
    {
     "data": {
      "text/plain": [
       "0.5"
      ]
     },
     "execution_count": 32,
     "metadata": {},
     "output_type": "execute_result"
    }
   ],
   "source": [
    "df[df.sex == 'FEMALE'].sex.count() / df.sex.count()"
   ]
  },
  {
   "cell_type": "markdown",
   "metadata": {
    "slideshow": {
     "slide_type": "fragment"
    }
   },
   "source": [
    "and now we can gather that $\\Pr(sex = \\mathrm{MALE}) = 1 - \\Pr(sex = \\mathrm{FEMALE}) = 0.5$.  So already, in exploring this dataset, we have an equal number of men to women.\n",
    "\n",
    "What about marital status or formally, $\\Pr( married = \\mathrm{YES})$?\n",
    "\n",
    "We will use the `describe()` function to get a basic understanding of the underlying data."
   ]
  },
  {
   "cell_type": "code",
   "execution_count": 33,
   "metadata": {
    "slideshow": {
     "slide_type": "fragment"
    }
   },
   "outputs": [
    {
     "data": {
      "text/plain": [
       "count     600\n",
       "unique      2\n",
       "top       YES\n",
       "freq      396\n",
       "Name: married, dtype: object"
      ]
     },
     "execution_count": 33,
     "metadata": {},
     "output_type": "execute_result"
    }
   ],
   "source": [
    "df.married.describe()"
   ]
  },
  {
   "cell_type": "code",
   "execution_count": 34,
   "metadata": {
    "slideshow": {
     "slide_type": "fragment"
    }
   },
   "outputs": [
    {
     "data": {
      "text/plain": [
       "0.66"
      ]
     },
     "execution_count": 34,
     "metadata": {},
     "output_type": "execute_result"
    }
   ],
   "source": [
    "df[df.married == 'YES'].married.count() / df.id.count() # 396"
   ]
  },
  {
   "cell_type": "markdown",
   "metadata": {
    "slideshow": {
     "slide_type": "subslide"
    }
   },
   "source": [
    "and now what's the  **joint probability** of _married_ and _female_ (assume independence &mdash; that is being female doesn't depending on being married)?\n",
    "\n",
    "\n",
    "\\begin{align*}\n",
    "\\Pr(married = \\mathrm{YES} \\wedge sex = \\mathrm{FEMALE}) &= \\Pr(married = \\mathrm{YES}) \\cdot \\Pr(sex = \\mathrm{FEMALE}) \\\\\n",
    "                                       &= \\frac{396}{600} \\cdot \\frac{300}{600}  \\\\\n",
    "                                       &= \\frac{118,800}{360,000} \\\\\n",
    "                                       &= 0.33\n",
    "\\end{align*}\n",
    "\n",
    "so $0.33 \\times 600 = 198$.  Which is the number of customers we should see who are married females if these events are independent."
   ]
  },
  {
   "cell_type": "code",
   "execution_count": 35,
   "metadata": {},
   "outputs": [
    {
     "data": {
      "text/plain": [
       "0.058823529411764705"
      ]
     },
     "execution_count": 35,
     "metadata": {},
     "output_type": "execute_result"
    }
   ],
   "source": [
    "3/51"
   ]
  },
  {
   "cell_type": "markdown",
   "metadata": {},
   "source": [
    "### Conditional Probability\n",
    "\n",
    "What if we are interested in probabilities of events that are dependent on one another.  The canonical example of this is non-replacement drawing of playing cards.  Since every draw of a card reduces the probability of a color and suit, the probabilities change after each draw.\n",
    "\n",
    "In a normal deck the probability of a king is 4/52 (there is a king for each suit).  Thus, if your first draw is a king, then the probability of drawing a king drops to 3/51.\n",
    "\n",
    "Conditional probability is then defined by :\n",
    "\n",
    "$$\n",
    "\\Pr(x|y) = \\frac{\\Pr(x \\wedge y)}{\\Pr(y)}\n",
    "$$"
   ]
  },
  {
   "cell_type": "markdown",
   "metadata": {},
   "source": [
    "Now we can arrive back at the **joint probability** when events are _dependent_:\n",
    "\n",
    "$$\n",
    "\\Pr(x \\wedge y) = \\Pr(x|y) \\cdot \\Pr(y) \n",
    "$$"
   ]
  },
  {
   "cell_type": "markdown",
   "metadata": {
    "slideshow": {
     "slide_type": "subslide"
    }
   },
   "source": [
    "That may have been a bad assumption ... while close, we are off by 3, indicating these two event may not entirely be independent.\n",
    "\n",
    "When NOT independent the **joint probability** $\\Pr(x,y)$ is defined as \n",
    "$$ \\Pr(x,y) = \\Pr(x) \\cdot \\Pr(y \\text{ } \\big| \\text{ }x)$$\n",
    "\n",
    "Where we write $\\Pr(y \\text{ } \\big| \\text{ }x)$, we mean the \"probability of $y$ given $x$\".  That is, we assume $y$ is true, and we find the probability of $x$ conditional on that.  \n",
    "\n",
    "<!--\n",
    "Thus, the **conditional probability**\n",
    "\n",
    "$$\\Pr(y \\big| x ) = \\frac{\\Pr(x  \\wedge  y)}{\\Pr(x)}$$\n",
    "-->"
   ]
  },
  {
   "cell_type": "markdown",
   "metadata": {
    "slideshow": {
     "slide_type": "subslide"
    }
   },
   "source": [
    "Now, let's **not** assume independence so the joint probability of _married_ and _female_?\n",
    "\n",
    "$$\n",
    "\\begin{align*}\n",
    "\\Pr(married = \\mathrm{YES} \\wedge sex = \\mathrm{FEMALE}) &= \\Pr(married = \\mathrm{YES}) \\cdot \\Pr(sex = \\mathrm{FEMALE} \\text{ }\\big| \\text{ } married = \\mathrm{YES}) \\\\\n",
    "                                       &= \\frac{396}{600} \\cdot \\frac{195}{396}  \\\\\n",
    "                                       &= \\frac{195}{600} \\\\\n",
    "                                       &= 0.325\n",
    "\\end{align*}\n",
    "$$"
   ]
  },
  {
   "cell_type": "code",
   "execution_count": 36,
   "metadata": {},
   "outputs": [
    {
     "data": {
      "text/plain": [
       "id             0.493333\n",
       "age            0.493333\n",
       "sex            0.493333\n",
       "region         0.493333\n",
       "income         0.493333\n",
       "married        0.493333\n",
       "children       0.493333\n",
       "car            0.493333\n",
       "save_act       0.493333\n",
       "current_act    0.493333\n",
       "mortgage       0.493333\n",
       "pep            0.493333\n",
       "dtype: float64"
      ]
     },
     "execution_count": 36,
     "metadata": {},
     "output_type": "execute_result"
    }
   ],
   "source": [
    "df[(df.car == 'YES')].count() / df.count()"
   ]
  },
  {
   "cell_type": "markdown",
   "metadata": {
    "slideshow": {
     "slide_type": "subslide"
    }
   },
   "source": [
    "### Marginal Probability\n",
    "\n",
    "Mariginal probabilities allow us to answer questions across random variables.  Like, the probability of owning a car or $\\Pr(Car)$.  To compute this marginal probability, we  sum the  probabilities across the relevant \"in the margins\" which represent the sum of a row or column. The table below shows the marginal probabilities in bold."
   ]
  },
  {
   "cell_type": "markdown",
   "metadata": {
    "slideshow": {
     "slide_type": "fragment"
    }
   },
   "source": [
    "| | Female | Male | -- |\n",
    "|-|--------|------|-|\n",
    "|**Car**   | $0.245$ | $0.24833$ |**$\\mathbf{0.493333}$** |\n",
    "|**No Car**| $0.255$ | $0.251667$ | $\\mathbf{0.506667}$ |\n",
    "|      | $\\mathbf{0.50}$  | $\\mathbf{0.50}$     | $\\mathbf{1.00}$"
   ]
  },
  {
   "cell_type": "markdown",
   "metadata": {
    "slideshow": {
     "slide_type": "fragment"
    }
   },
   "source": [
    "see that\n",
    "$$\\Pr(Car) = \\Pr(Car \\wedge Male) + \\Pr(Car \\wedge Female)$$\n",
    "\n",
    "and \n",
    "$$\\Pr(Female) = \\Pr(Car \\wedge Female) + \\Pr(No Car \\wedge Female)$$"
   ]
  },
  {
   "cell_type": "markdown",
   "metadata": {
    "slideshow": {
     "slide_type": "subslide"
    }
   },
   "source": [
    "Generalizing:\n",
    "\n",
    "* Given random variables $X$ and $Y$\n",
    "* the marginal probability of $X$ is $\\Pr(X) = \\Pr(X \\wedge Y) + \\Pr(X \\wedge \\neg Y)$"
   ]
  },
  {
   "cell_type": "code",
   "execution_count": 37,
   "metadata": {
    "slideshow": {
     "slide_type": "skip"
    }
   },
   "outputs": [
    {
     "data": {
      "text/plain": [
       "id             0.248333\n",
       "age            0.248333\n",
       "sex            0.248333\n",
       "region         0.248333\n",
       "income         0.248333\n",
       "married        0.248333\n",
       "children       0.248333\n",
       "car            0.248333\n",
       "save_act       0.248333\n",
       "current_act    0.248333\n",
       "mortgage       0.248333\n",
       "pep            0.248333\n",
       "dtype: float64"
      ]
     },
     "execution_count": 37,
     "metadata": {},
     "output_type": "execute_result"
    }
   ],
   "source": [
    "df[(df.car == 'YES') & (df.sex == 'MALE')].count() / df.count()"
   ]
  },
  {
   "cell_type": "code",
   "execution_count": 38,
   "metadata": {
    "slideshow": {
     "slide_type": "skip"
    }
   },
   "outputs": [
    {
     "data": {
      "text/plain": [
       "id             0.245\n",
       "age            0.245\n",
       "sex            0.245\n",
       "region         0.245\n",
       "income         0.245\n",
       "married        0.245\n",
       "children       0.245\n",
       "car            0.245\n",
       "save_act       0.245\n",
       "current_act    0.245\n",
       "mortgage       0.245\n",
       "pep            0.245\n",
       "dtype: float64"
      ]
     },
     "execution_count": 38,
     "metadata": {},
     "output_type": "execute_result"
    }
   ],
   "source": [
    "df[(df.car == 'YES') & (df.sex == 'FEMALE')].count() / df.count()"
   ]
  },
  {
   "cell_type": "code",
   "execution_count": 39,
   "metadata": {
    "slideshow": {
     "slide_type": "skip"
    }
   },
   "outputs": [
    {
     "data": {
      "text/plain": [
       "id             0.251667\n",
       "age            0.251667\n",
       "sex            0.251667\n",
       "region         0.251667\n",
       "income         0.251667\n",
       "married        0.251667\n",
       "children       0.251667\n",
       "car            0.251667\n",
       "save_act       0.251667\n",
       "current_act    0.251667\n",
       "mortgage       0.251667\n",
       "pep            0.251667\n",
       "dtype: float64"
      ]
     },
     "execution_count": 39,
     "metadata": {},
     "output_type": "execute_result"
    }
   ],
   "source": [
    "df[(df.car == 'NO') & (df.sex == 'MALE')].count() / df.count()"
   ]
  },
  {
   "cell_type": "markdown",
   "metadata": {},
   "source": [
    "We can see our calculations check out."
   ]
  },
  {
   "cell_type": "markdown",
   "metadata": {
    "slideshow": {
     "slide_type": "subslide"
    }
   },
   "source": [
    "### Entropy\n",
    "\n",
    "One concept that we should have a good understanding of when dealing with data and also a concept that reveals the underlying predictability of data is **entropy**. Entropy gives us a measure of how predictable (uncertain) a dataset is, and it provides us a way to measure disorder or randomness in data.  The less entropy, the more orderly or predictable a dataset is.\n",
    "\n",
    "Entropy is thus defined by:\n",
    "\n",
    "$$ H(X) = - \\sum_{x \\in X} \\Pr(x) \\log \\Pr(x) $$"
   ]
  },
  {
   "cell_type": "markdown",
   "metadata": {
    "slideshow": {
     "slide_type": "subslide"
    }
   },
   "source": [
    "### Mutual Information\n",
    "\n",
    "**Mutual information**, like entropy gives us a way to measure order and uncertainty, so allowing us to understand how  knowing X reduces the uncertainty in Y.  It is similar to entropy but computes the joint probabilities over all $x$ and $y$ in a dataset\n",
    "\n",
    "$$I(X;Y) = \\sum_{y \\in Y} \\sum_{x \\in X} {\\Pr(x,y) \\log{ \\bigg( \\frac{\\Pr(x,y)}{\\Pr(x)\\Pr(y)} \\bigg)}}$$\n",
    "\n",
    "\n",
    "where $\\Pr(x,y)$ is the joint probability and $\\Pr(x)$ and $\\Pr(y)$ marginal probabilities."
   ]
  },
  {
   "cell_type": "markdown",
   "metadata": {
    "slideshow": {
     "slide_type": "subslide"
    }
   },
   "source": [
    "* notice than when $X$ and $Y$ are independent, \n",
    "    * $\\Pr(x,y) = \\Pr(x)\\Pr(y)$ \n",
    "    * and thus $\\log{ \\bigg( \\frac{\\Pr(x,y)}{\\Pr(x)\\Pr(y)} = 1 \\bigg)} = 0$\n",
    "    * so $I(X;Y) = 0$"
   ]
  },
  {
   "cell_type": "markdown",
   "metadata": {
    "slideshow": {
     "slide_type": "slide"
    }
   },
   "source": [
    "## Association"
   ]
  },
  {
   "cell_type": "markdown",
   "metadata": {
    "slideshow": {
     "slide_type": "subslide"
    }
   },
   "source": [
    "### Statistical Background : Covariance\n",
    "\n",
    "Covariance and correlation are two measures that allow us to understand how two (or more) variables are related to one another.  The first of which, covariance, covariance is a measure of how two variables $X$ and $Y$ vary together with one another.  That is to say,  positive covariance indicates the variables increase together (e.g. time doing homework and final grade) and negative covariance indicates when one variable increase, the other decreases (e.g. exercise and weight)."
   ]
  },
  {
   "cell_type": "markdown",
   "metadata": {
    "slideshow": {
     "slide_type": "subslide"
    }
   },
   "source": [
    "Covariance $cov_{XY}$ is just the sum of the product of  random variables $X = \\{x_1, x_2, \\ldots, x_n\\}$ and $Y = \\{ y_1, y_2, \\ldots, y_n \\}$ as they relate to their sample means, \n",
    "\n",
    "$$cov_{XY} = { {1 \\over n } {\\sum_{i=1}^n (x_i - \\bar{X})(y_i - \\bar{Y})} }. $$\n",
    "\n",
    "Covariance is an apt indicator of the relationship between two variables, but the magnitude of that relationship is not easily interpreted by covariance, thus, we will use another tool: correlation."
   ]
  },
  {
   "cell_type": "markdown",
   "metadata": {
    "slideshow": {
     "slide_type": "subslide"
    }
   },
   "source": [
    "### Patterns Revisited: Correlation"
   ]
  },
  {
   "cell_type": "markdown",
   "metadata": {},
   "source": [
    "Let's revisit our bank dataset again and plot the **age** of the customers to their **income**.  Intuitively, one my say something like \"the older people are, the more money they make\".  While this may _seem_ true and intuitive, we don't need to guess -- we already have data to support or refute the claim.  \n",
    "\n",
    "Let's take a look"
   ]
  },
  {
   "cell_type": "code",
   "execution_count": 40,
   "metadata": {
    "slideshow": {
     "slide_type": "subslide"
    }
   },
   "outputs": [
    {
     "data": {
      "text/plain": [
       "<matplotlib.axes._subplots.AxesSubplot at 0x7ff201100668>"
      ]
     },
     "execution_count": 40,
     "metadata": {},
     "output_type": "execute_result"
    },
    {
     "data": {
      "image/png": "[encoded data removed]",
      "text/plain": [
       "<Figure size 432x288 with 1 Axes>"
      ]
     },
     "metadata": {
      "needs_background": "light"
     },
     "output_type": "display_data"
    }
   ],
   "source": [
    "%matplotlib inline\n",
    "import pandas as pd\n",
    "\n",
    "df_bank = pd.read_csv(\"https://raw.githubusercontent.com/bluenex/WekaLearningDataset/master/bank/bank-data.csv\")\n",
    "df_bank.plot(x=\"age\", y=\"income\", kind=\"scatter\")"
   ]
  },
  {
   "cell_type": "markdown",
   "metadata": {
    "slideshow": {
     "slide_type": "subslide"
    }
   },
   "source": [
    "Looking at this data plot, what can we observe?  Sans a few outliers, in general one's income goes up with age.  But notice another phenomenon?  The range of income also increases with age.  Income ranges are tighter in the eatlier years, while they get much wider the older one gets."
   ]
  },
  {
   "cell_type": "markdown",
   "metadata": {
    "slideshow": {
     "slide_type": "fragment"
    }
   },
   "source": [
    "To explore this more formally, we will use **correlation** to focus on a precise statistical description of the phenomenon.  One of the most important and widely used of the correlation measures is Pearson's correlation (aka Pearson's product-moment, aka \"Pearson's $r$\").  Though there are there are several other popular correlation measures, we'll focus on Pearson's correlation since it is the most common."
   ]
  },
  {
   "cell_type": "markdown",
   "metadata": {
    "slideshow": {
     "slide_type": "subslide"
    }
   },
   "source": [
    "**Pearson's correlation** is defined  as  \n",
    "\n",
    "$$\\rho_{XY} = { cov_{XY} \\over { \\sigma_X } { \\sigma_Y } }. $$\n",
    "\n",
    "You may also see this denoted as simply $r$."
   ]
  },
  {
   "cell_type": "markdown",
   "metadata": {
    "slideshow": {
     "slide_type": "subslide"
    }
   },
   "source": [
    "*  $-1 \\le r  \\le 1$\n",
    "* if $r = 0$ then there is _no correlation_ between $X$ and $Y$\n",
    "* if $r = 1$, then $X$ and $Y$ are have a _strong positive correlation_, that is when $X$ increases $Y$ increases\n",
    "* if $r = -1$ then there is a _strong negative correlation_ between $X$ and $Y$, that is when $Y$ decreases, $X$ increases.\n",
    "* everything in between represents varying levels of _positive_ and _negative_ correlation"
   ]
  },
  {
   "cell_type": "code",
   "execution_count": 41,
   "metadata": {},
   "outputs": [
    {
     "data": {
      "text/plain": [
       "(0.75272616062786, 1.166806976120496e-110)"
      ]
     },
     "execution_count": 41,
     "metadata": {},
     "output_type": "execute_result"
    }
   ],
   "source": [
    "from scipy.stats import pearsonr\n",
    "\n",
    "pearsonr(df_bank.age, df_bank.income)"
   ]
  },
  {
   "cell_type": "markdown",
   "metadata": {},
   "source": [
    "The ouput is a tuple returning the $r$ value and the two-tailed $p$ value.  With $r$ very high (close to 1), we can say that with the data we have, income and age are strongly correlated."
   ]
  },
  {
   "cell_type": "markdown",
   "metadata": {
    "slideshow": {
     "slide_type": "subslide"
    }
   },
   "source": [
    "**A warning about correlation**.  Though there may be a strong correlation between two variables, we must always remember that such **correlation DOES NOT IMPLY CAUSATION**.  In the example, we have here, one might be tempted to say that *age* is the *reason* why incomes are going up.  Indeed, we might intuit that the older you are, the more skills you acquire, and hence the more valuable those skills are to an employer.  While this might be true, there is little we can say with the data we have that _age is the cause_ of increased income.  Demonstrating **causation requires experimental burden of proof and rigor** through repeated _empirical experimentation_, _reproduction_ and _replication_!  Rigorous evaluation of confounding variables, statistical sample analysis and other things are required to even begin to assert causation, so do not be tempted to do so in your own work unless those formal and rigorous evaluations are done &mdash; topics far beyond the scope of this course."
   ]
  },
  {
   "cell_type": "markdown",
   "metadata": {
    "slideshow": {
     "slide_type": "slide"
    }
   },
   "source": [
    "## Normalization, Standardization and Scaling"
   ]
  },
  {
   "cell_type": "markdown",
   "metadata": {},
   "source": [
    "When dealing with numeric data, it is often very important to bring various data into alignment with one another so that they can be compared.  Take for example, our bank data.  The scales of ages and incomes are a couple orders of magnitude apart. This presents some problems when trying to compare their statistics.  Similar examples occur when comparing two quanties that use different scales or units &mdash; degrees Farenheit and Celsius are common examples.  They don't not make sense when compared to one another numerically and either need to be converted to one scale or another to me compared.\n",
    "\n",
    "Standarding, normalizing and scaling are all important to do when working with data of any kind. Some do this by default on all data, others take a more conservative and custom approach &mdash; looking at all the data before doing any conversion. Unattended, your outcomes can lead to misleading results!\n",
    "\n",
    "Let's look at each of these individually."
   ]
  },
  {
   "cell_type": "markdown",
   "metadata": {
    "slideshow": {
     "slide_type": "subslide"
    }
   },
   "source": [
    "### Scaling\n",
    "\n",
    "Scaling involves bringing data values into the same scale, and as stated before a common scaling is converting degrees Celcius to Farenheit.  Others include converting inches to millimeters or meters to feet. Individual scales, units and outcomes will dictate which scale is appropriate.\n"
   ]
  },
  {
   "cell_type": "markdown",
   "metadata": {
    "slideshow": {
     "slide_type": "subslide"
    }
   },
   "source": [
    "### Normalizing\n",
    "Normalizing data involves or scaling values so that they fall within a specific range.  Often these values would be normalized to the range of 0.0 to 1.0 and there are a few normalization techniques we can capitalize on."
   ]
  },
  {
   "cell_type": "markdown",
   "metadata": {
    "slideshow": {
     "slide_type": "fragment"
    }
   },
   "source": [
    "#### MIN-MAX Normalization\n",
    "\n",
    "For data values $V = (v_1, v_2, \\ldots, v_i, \\ldots, v_n)$,\n",
    "\n",
    "$$\n",
    "\\mathrm{minmax}(V, v_i) = {\n",
    "{v_i - \\mathrm{min}(V)} \\over\n",
    "{\\mathrm{max}(V) - \\mathrm{min}(V)}\n",
    "}\n",
    "$$"
   ]
  },
  {
   "cell_type": "markdown",
   "metadata": {},
   "source": [
    "`sklearn` has built in scaling with min-max using [`sklearn.preprocessing.MinMaxScaler`](https://scikit-learn.org/stable/modules/generated/sklearn.preprocessing.MinMaxScaler.html).  Let's scale age to the range of 0 to 1 from our bank dataset."
   ]
  },
  {
   "cell_type": "code",
   "execution_count": 42,
   "metadata": {},
   "outputs": [
    {
     "name": "stderr",
     "output_type": "stream",
     "text": [
      "/home/kmaull/anaconda3/lib/python3.7/site-packages/sklearn/utils/validation.py:595: DataConversionWarning: Data with input dtype int64 was converted to float64 by MinMaxScaler.\n",
      "  warnings.warn(msg, DataConversionWarning)\n"
     ]
    },
    {
     "data": {
      "text/plain": [
       "array([[0.6122449 ],\n",
       "       [0.44897959],\n",
       "       [0.67346939],\n",
       "       [0.10204082],\n",
       "       [0.79591837],\n",
       "       [0.79591837],\n",
       "       [0.08163265],\n",
       "       [0.81632653],\n",
       "       [0.3877551 ],\n",
       "       [0.73469388]])"
      ]
     },
     "execution_count": 42,
     "metadata": {},
     "output_type": "execute_result"
    }
   ],
   "source": [
    "import numpy as np\n",
    "from sklearn.preprocessing import MinMaxScaler\n",
    "scaler = MinMaxScaler()\n",
    "\n",
    "data = np.array(df_bank.age).reshape(-1,1)\n",
    "scaler.fit(data)\n",
    "scaler.transform(data)[:10]"
   ]
  },
  {
   "cell_type": "code",
   "execution_count": 43,
   "metadata": {},
   "outputs": [
    {
     "data": {
      "text/plain": [
       "array([[48],\n",
       "       [40],\n",
       "       [51],\n",
       "       [23],\n",
       "       [57],\n",
       "       [57],\n",
       "       [22],\n",
       "       [58],\n",
       "       [37],\n",
       "       [54]])"
      ]
     },
     "execution_count": 43,
     "metadata": {},
     "output_type": "execute_result"
    }
   ],
   "source": [
    "data[:10]"
   ]
  },
  {
   "cell_type": "markdown",
   "metadata": {},
   "source": [
    "With the scaler, we could also restrict the values to a specific scale (say, 1 to 10) with the `feature_range` parameter:"
   ]
  },
  {
   "cell_type": "code",
   "execution_count": 44,
   "metadata": {},
   "outputs": [
    {
     "name": "stderr",
     "output_type": "stream",
     "text": [
      "/home/kmaull/anaconda3/lib/python3.7/site-packages/sklearn/utils/validation.py:595: DataConversionWarning: Data with input dtype int64 was converted to float64 by MinMaxScaler.\n",
      "  warnings.warn(msg, DataConversionWarning)\n"
     ]
    },
    {
     "data": {
      "text/plain": [
       "array([[6.51020408],\n",
       "       [5.04081633],\n",
       "       [7.06122449],\n",
       "       [1.91836735],\n",
       "       [8.16326531],\n",
       "       [8.16326531],\n",
       "       [1.73469388],\n",
       "       [8.34693878],\n",
       "       [4.48979592],\n",
       "       [7.6122449 ]])"
      ]
     },
     "execution_count": 44,
     "metadata": {},
     "output_type": "execute_result"
    }
   ],
   "source": [
    "scaler1to10 = MinMaxScaler(feature_range=(1,10))\n",
    "data = np.array(df_bank.age).reshape(-1,1)\n",
    "scaler1to10.fit(data)\n",
    "scaler1to10.transform(data)[:10]"
   ]
  },
  {
   "cell_type": "markdown",
   "metadata": {
    "slideshow": {
     "slide_type": "subslide"
    }
   },
   "source": [
    "### Standardizing\n",
    "\n",
    "**Standardizing** is another technique that can be used to bring values into a range which typically involves rescaling data about the mean $\\mu$ and standard deviation $\\sigma$ of the data."
   ]
  },
  {
   "cell_type": "markdown",
   "metadata": {
    "slideshow": {
     "slide_type": "fragment"
    }
   },
   "source": [
    "#### Z-score Standardization\n",
    "For normal distrubutions, Z-score normalization works well, where you know the mean $\\mu$, and standard deviation $\\sigma$, of the data population. \n",
    "\n",
    "$$\n",
    "v' = { { v_i - \\mu } \\over \\sigma }\n",
    "$$"
   ]
  },
  {
   "cell_type": "markdown",
   "metadata": {},
   "source": [
    "With our sample data, let's compute the z-score for the first age in the data set (48).  We can easily compute $\\sigma$ and $\\mu$:"
   ]
  },
  {
   "cell_type": "code",
   "execution_count": 45,
   "metadata": {},
   "outputs": [],
   "source": [
    "std = df_bank.age.std()\n",
    "mean = df_bank.age.mean()"
   ]
  },
  {
   "cell_type": "markdown",
   "metadata": {},
   "source": [
    "And now the z-score for the age 48:"
   ]
  },
  {
   "cell_type": "code",
   "execution_count": 46,
   "metadata": {},
   "outputs": [
    {
     "data": {
      "text/plain": [
       "0.38856294260926655"
      ]
     },
     "execution_count": 46,
     "metadata": {},
     "output_type": "execute_result"
    }
   ],
   "source": [
    "(df_bank.age[0] - mean) / std"
   ]
  },
  {
   "cell_type": "markdown",
   "metadata": {},
   "source": [
    "Using the [`scipy.stats.zscore`](https://docs.scipy.org/doc/scipy/reference/generated/scipy.stats.zscore.html) function we can easily compute the z-score without implementing anything on our own.  Notice the first value (age 48) is the same (or very close to it, quite likely due to a small difference in population vs sample statistic) as our own."
   ]
  },
  {
   "cell_type": "code",
   "execution_count": 47,
   "metadata": {},
   "outputs": [
    {
     "data": {
      "text/plain": [
       "array([ 0.38888715, -0.16617033,  0.59703371, -1.34566749,  1.01332682,\n",
       "        1.01332682, -1.41504968,  1.08270901, -0.37431689,  0.80518026])"
      ]
     },
     "execution_count": 47,
     "metadata": {},
     "output_type": "execute_result"
    }
   ],
   "source": [
    "from scipy.stats import zscore\n",
    "\n",
    "zscore(df_bank.age)[:10]"
   ]
  },
  {
   "cell_type": "markdown",
   "metadata": {
    "slideshow": {
     "slide_type": "subslide"
    }
   },
   "source": [
    "### More SciPy statistics functions\n",
    "\n",
    "For a more complete set of functions to do a variety of statistical operations, SciPy contains a large number of valuable resources: see the [`scipy.stats`](https://docs.scipy.org/doc/scipy/reference/stats.html) library reference.\n",
    "\n",
    "### More Scikit-Learn preprocessing functions\n",
    "\n",
    "For the full suite of preprocessing functions (many of which include some statistical operations see the reference for [`sklearn.preprocessing`](http://scikit-learn.org/stable/modules/classes.html#module-sklearn.preprocessing).\n",
    "\n"
   ]
  }
 ],
 "metadata": {
  "anaconda-cloud": {},
  "celltoolbar": "Slideshow",
  "kernelspec": {
   "display_name": "Python 3",
   "language": "python",
   "name": "python3"
  },
  "language_info": {
   "codemirror_mode": {
    "name": "ipython",
    "version": 3
   },
   "file_extension": ".py",
   "mimetype": "text/x-python",
   "name": "python",
   "nbconvert_exporter": "python",
   "pygments_lexer": "ipython3",
   "version": "3.7.2"
  },
  "toc": {
   "colors": {
    "hover_highlight": "#DAA520",
    "navigate_num": "#000000",
    "navigate_text": "#333333",
    "running_highlight": "#FF0000",
    "selected_highlight": "#FFD700",
    "sidebar_border": "#EEEEEE",
    "wrapper_background": "#FFFFFF"
   },
   "moveMenuLeft": true,
   "nav_menu": {
    "height": "135px",
    "width": "252px"
   },
   "navigate_menu": true,
   "number_sections": false,
   "sideBar": true,
   "threshold": "1",
   "toc_cell": false,
   "toc_section_display": "block",
   "toc_window_display": false,
   "widenNotebook": false
  }
 },
 "nbformat": 4,
 "nbformat_minor": 4
}
